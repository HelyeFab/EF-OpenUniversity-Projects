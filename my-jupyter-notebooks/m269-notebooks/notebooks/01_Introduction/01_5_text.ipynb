{
 "cells": [
  {
   "cell_type": "markdown",
   "id": "0",
   "metadata": {},
   "source": [
    "## 1.5 Text cells"
   ]
  },
  {
   "cell_type": "markdown",
   "id": "1",
   "metadata": {},
   "source": [
    "Text cells are written in Markdown, a widely used formatting notation.\n",
    "This section only introduces the most useful bits of Markdown."
   ]
  },
  {
   "cell_type": "markdown",
   "id": "2",
   "metadata": {},
   "source": [
    "<div class=\"alert alert-info\">\n",
    "<strong>Info:</strong> There are many Markdown variants. Jupyter notebooks use\n",
    "<a href=\"https://guides.github.com/features/mastering-markdown/\">GitHub flavoured Markdown</a>.\n",
    "</div>"
   ]
  },
  {
   "cell_type": "markdown",
   "id": "3",
   "metadata": {},
   "source": [
    "When editing a text or code cell, you can press the\n",
    "[usual keyboard shortcuts](https://www.howtogeek.com/115664/42-text-editing-keyboard-shortcuts-that-work-almost-everywhere/)\n",
    "to copy, cut and paste text, to undo and redo edits,\n",
    "to move the cursor to the start or end of the line,\n",
    "delete one whole word at a time, etc.\n",
    "If you're not in the habit of using them in email clients and word processors,\n",
    "it's time to learn them, as you'll type a lot of text and code in M269.\n",
    "\n",
    "You will change this notebook as you do the exercises below. I suggest\n",
    "you save this notebook now and after each exercise,\n",
    "to have a checkpoint you can revert to if needed."
   ]
  },
  {
   "cell_type": "markdown",
   "id": "4",
   "metadata": {},
   "source": [
    "### 1.5.1 Basic formatting"
   ]
  },
  {
   "cell_type": "markdown",
   "id": "5",
   "metadata": {},
   "source": [
    "Paragraphs are separated by blank lines.\n",
    "\n",
    "To break a line within a paragraph, end it with a backslash.\\\n",
    "The backslash (`\\`) isn't visible in the formatted text,\n",
    "but the next line won't be joined to the previous one.\n",
    "\n",
    "To obtain text in italics, surround it with an asterisk,\n",
    "e.g. `*text in italics*` produces *text in italics*.\n",
    "\n",
    "To obtain text in bold, surround it with two asterisks,\n",
    "e.g. `**bold text**` produces **bold text**.\n",
    "\n",
    "To obtain monospaced text, surround it with a backtick,\n",
    "e.g. `` `monospaced text` `` produces `monospaced text`.\n",
    "The backtick `` ` ``, also known as the grave accent,\n",
    "is not the same as the quote character `'`.\n",
    "If you can't see a backtick on your keyboard, search online\n",
    "for how to type it for your specific operating system and keyboard layout."
   ]
  },
  {
   "cell_type": "markdown",
   "id": "6",
   "metadata": {},
   "source": [
    "#### Exercise 1.5.1"
   ]
  },
  {
   "cell_type": "markdown",
   "id": "7",
   "metadata": {},
   "source": [
    "Add some formatting to the next paragraph, as per the instructions below."
   ]
  },
  {
   "cell_type": "markdown",
   "id": "8",
   "metadata": {},
   "source": [
    "Italics is used to emphasise text.\n",
    "Bold is used for stronger emphasis.\n",
    "Monospaced font is often used for text the user has to type."
   ]
  },
  {
   "cell_type": "markdown",
   "id": "9",
   "metadata": {},
   "source": [
    "1. Click on the above paragraph to select its text cell.\n",
    "   The left border should be blue, indicating command mode.\n",
    "2. Press Enter to get into edit mode.\n",
    "   The left border becomes green and the cell's text is shown in Markdown.\n",
    "3. Put the word 'emphasise' in italics, the word 'stronger' in bold, and\n",
    "   the words 'the user has to type' in monospaced font.\n",
    "4. Break the paragraph into three lines, one per sentence.\n",
    "5. Press Ctrl-Enter or Cmd-Enter to format the text and check it's as intended.\n",
    "   If you still need to make changes, start again from step&nbsp;2.\n",
    "\n",
    "Once you finish the exercise, save the notebook.\n",
    "\n",
    "\n",
    "[Hint](../31_Hints/Hints_01_5_01.ipynb)\n",
    "[Answer](../32_Answers/Answers_01_5_01.ipynb)"
   ]
  },
  {
   "cell_type": "markdown",
   "id": "10",
   "metadata": {},
   "source": [
    "### 1.5.2 Lists"
   ]
  },
  {
   "cell_type": "markdown",
   "id": "11",
   "metadata": {},
   "source": [
    "Markdown supports numbered and unnumbered lists and sublists.\n",
    "The formatting rules are:"
   ]
  },
  {
   "cell_type": "markdown",
   "id": "12",
   "metadata": {},
   "source": [
    "1. Lists start after a blank line.\n",
    "1. Each item must be on its own line.\n",
    "    - Sublists are indented, e.g. by four spaces per indentation level.\n",
    "        - Unnumbered list items start with a hyphen and space. The Markdown processor replaces the hyphen by a symbol that indicates the sublist level, e.g. a solid or hollow bullet point.\n",
    "    - Numbered list items start with `1.` followed by a space.\n",
    "1. Leave a blank line after the end of the list."
   ]
  },
  {
   "cell_type": "markdown",
   "id": "13",
   "metadata": {},
   "source": [
    "You can number the list items manually, but Markdown only looks at the number of\n",
    "the first item and then numbers all subsequent items incrementally.\n",
    "This has two implications. First, if you number all items as 1,\n",
    "you can reorder them without changing the numbers.\n",
    "Second, you can start a list with any number\n",
    "to continue the numbering from a previous list."
   ]
  },
  {
   "cell_type": "markdown",
   "id": "14",
   "metadata": {},
   "source": [
    "4. This first item is numbered 4 to continue the previous list.\n",
    "1. This item is numbered 1. Markdown renumbers it to 5.\n",
    "   1. This item is also numbered 1.\n",
    "   1. And so is this one. The numbering restarts for each sublist.\n",
    "1. This one is numbered 1 too."
   ]
  },
  {
   "cell_type": "markdown",
   "id": "15",
   "metadata": {},
   "source": [
    "Now double-click anywhere on the above lists to see their Markdown formatting.\n",
    "Then run the cell to restore the formatted list."
   ]
  },
  {
   "cell_type": "markdown",
   "id": "16",
   "metadata": {},
   "source": [
    "#### Exercise 1.5.2"
   ]
  },
  {
   "cell_type": "markdown",
   "id": "17",
   "metadata": {},
   "source": [
    "Making tea consists of the following steps: boil water, put a teabag in a cup,\n",
    "pour the water, optionally add milk and sugar, drink.\n",
    "Write this procedure as a numbered list of steps.\n",
    "Write the optional ingredients as an unnumbered sublist,\n",
    "as they can be added in any order."
   ]
  },
  {
   "cell_type": "markdown",
   "id": "18",
   "metadata": {},
   "source": [
    "_Write your answer here._"
   ]
  },
  {
   "cell_type": "markdown",
   "id": "19",
   "metadata": {},
   "source": [
    "Once you finish the exercise, save the notebook.\n",
    "\n",
    "[Hint](../31_Hints/Hints_01_5_02.ipynb)\n",
    "[Answer](../32_Answers/Answers_01_5_02.ipynb)"
   ]
  },
  {
   "cell_type": "markdown",
   "id": "20",
   "metadata": {},
   "source": [
    "### 1.5.3 Tables"
   ]
  },
  {
   "cell_type": "markdown",
   "id": "21",
   "metadata": {},
   "source": [
    "Tables consist of one header row and one or more data rows.\n",
    "Tables are formatted with vertical bars (`|`) to separate columns.\n",
    "(On some keyboards the vertical bar has a slight gap in the middle.)\n",
    "After the header row, write a line of the form `-|-|-`,\n",
    "with as many hyphens as columns.\n",
    "Then write the data rows, one per line, with vertical bars as column separators.\n",
    "Here's an example. As usual, double-click on it to reveal the Markdown source."
   ]
  },
  {
   "cell_type": "markdown",
   "id": "22",
   "metadata": {},
   "source": [
    "Markdown | Result\n",
    "-|-\n",
    "`*text*` | *text*\n",
    "`**text**` | **text**"
   ]
  },
  {
   "cell_type": "markdown",
   "id": "23",
   "metadata": {},
   "source": [
    "#### Exercise 1.5.3"
   ]
  },
  {
   "cell_type": "markdown",
   "id": "24",
   "metadata": {},
   "source": [
    "Change the table below as follows:\n",
    "\n",
    "1. Add a third column, for Windows or Linux (your choice).\n",
    "1. Add data rows for further shortcuts you find useful to note down.\n",
    "   Feel free to remove or edit the two given rows.\n",
    "1. Fill the column for your operating system and leave the column for the other one empty. (If you use both then by all means fill both columns.)\n",
    "1. Press Ctrl-Enter or Cmd-Enter to format the table.\n",
    "   If it appears all jumbled up,\n",
    "   you may have not enough hyphens and vertical bars,\n",
    "   or put them in the wrong place."
   ]
  },
  {
   "cell_type": "markdown",
   "id": "25",
   "metadata": {},
   "source": [
    "macOS | Effect\n",
    "-|-\n",
    "Cmd-X | cut the selected text\n",
    "Cmd-Z | undo the last edit in this cell"
   ]
  },
  {
   "cell_type": "markdown",
   "id": "26",
   "metadata": {},
   "source": [
    "Once you finish the exercise, save the notebook.\n",
    "(I sound like a broken record, I know.) \n",
    "\n",
    "[Hint](../31_Hints/Hints_01_5_03.ipynb)\n",
    "[Answer](../32_Answers/Answers_01_5_03.ipynb)"
   ]
  },
  {
   "cell_type": "markdown",
   "id": "27",
   "metadata": {},
   "source": [
    "### 1.5.4 Mathematical notation"
   ]
  },
  {
   "cell_type": "markdown",
   "id": "28",
   "metadata": {},
   "source": [
    "Jupyter notebooks accept a subset of the widely used LaTeX notation\n",
    "for mathematical formulas. A formula must start and end with a dollar sign.\n",
    "Commands to produce symbols start with a backslash.\n",
    "To produce a subscript, use `_`; to produce a superscript, use `^`.\n",
    "If the subscript or superscript is more than one character, you must\n",
    "enclose it in curly braces. Some examples:\n",
    "\n",
    "What you write | What you'll see\n",
    "-|-\n",
    "`$x_0, x_1, \\ldots$` | $x_0, x_1, \\ldots$\n",
    "`$4 \\times \\Theta(n^2)$` | $4 \\times \\Theta(n^2)$\n",
    "`$\\log_{10} 10^{39}$` | $\\log_{10} 10^{39}$\n",
    "`$\\sqrt{3 + 4}$` | $\\sqrt{3 + 4}$\n",
    "\n",
    "\n",
    "LaTeX uses its own fonts, so for example\n",
    "*x* + *y* (Markdown) looks different from $x + y$ (LaTeX).\n",
    "\n",
    "You can use LaTeX notation also in the forums, as long as you start\n",
    "and end each formula with *two* dollar signs: `$$...$$`."
   ]
  },
  {
   "cell_type": "markdown",
   "id": "29",
   "metadata": {},
   "source": [
    "### 1.5.5 Adding study notes"
   ]
  },
  {
   "cell_type": "markdown",
   "id": "30",
   "metadata": {},
   "source": [
    "Since text cells are editable, you can add notes\n",
    "(clarifications, to-do items, etc.) anywhere among my text.\n",
    "You may wish to start each note with the same text,\n",
    "enclosed in three asterisks, to make it bold italics, e.g. `***My note:***`.\n",
    "This makes it easier to spot your notes and to search for them.\n",
    "\n",
    "To search for text within one notebook, open the notebook and\n",
    "use your browser's find command (usually Ctrl-F or Cmd-F).\n",
    "You can also search among all M269 notebooks because\n",
    "they're stored as text files.\n",
    "Do a web search to learn how to find text across multiple files\n",
    "on Linux, macOS or Windows."
   ]
  },
  {
   "cell_type": "markdown",
   "id": "31",
   "metadata": {},
   "source": [
    "If you're willing to type some HTML, you can style text in various ways,\n",
    "like <mark>highlighting it</mark>,\n",
    "<span style='color:blue'>changing its colour</span>,\n",
    "or combinations thereof, e.g.\n",
    "<mark style='color:blue'>**blue bold highlighted text**</mark>.\n",
    "Double-click this paragraph to see how it's done.\n",
    "(The HTML and PDF versions of this book don't show any\n",
    "highlighting or coloured text in this paragraph.)"
   ]
  },
  {
   "cell_type": "markdown",
   "id": "32",
   "metadata": {},
   "source": [
    "If you want your note to link to some resource, type `[text](URL)`,\n",
    "e.g. `[Open University](https://www.open.ac.uk)`\n",
    "produces [Open University](https://www.open.ac.uk).\n",
    "The URL can be the path to a local file, e.g. another notebook.\n",
    "That's how all exercises in this book link to their hints and answers in separate notebooks.\n",
    "\n",
    "To insert an image in your study notes, write `![text](URL)` on a line of its own.\n",
    "The URL is the path to a local file or to a file on the web.\n",
    "The text will be read by screen readers.\n",
    "For example, `![A deconstructed cow.](../cover.jpg)` results in\n",
    "\n",
    "<p id=\"fig-1.5.1\"></p>\n",
    "\n",
    "*[Figure 1.5.1](../33_Figures/Figures_01_5.ipynb#Figure-1.5.1)*\n",
    "\n",
    "![Image ../cover.jpg](../cover.jpg)"
   ]
  },
  {
   "cell_type": "markdown",
   "id": "33",
   "metadata": {},
   "source": [
    "<div class=\"alert alert-warning\">\n",
    "<strong>Note:</strong> To learn how to achieve a particular effect you see in a notebook,\n",
    "double-click the text cell to reveal the Markdown / LaTeX / HTML source,\n",
    "and then press Ctrl-Enter or Cmd-Enter to format it again.\n",
    "</div>"
   ]
  },
  {
   "cell_type": "markdown",
   "id": "34",
   "metadata": {},
   "source": [
    "<div class=\"alert alert-warning\">\n",
    "<strong>Note:</strong> Each Jupyter interface uses its own rendering engine, so in some rare cases\n",
    "a text cell may look right in one interface (e.g. the web browser) and\n",
    "wrong in another (e.g. Visual Studio Code).\n",
    "</div>"
   ]
  },
  {
   "cell_type": "markdown",
   "id": "35",
   "metadata": {},
   "source": [
    "#### Exercise 1.5.4"
   ]
  },
  {
   "cell_type": "markdown",
   "id": "36",
   "metadata": {},
   "source": [
    "Replace the prompt below by a study note, formatted as you wish.\n",
    "Include a link to a local file or a web page."
   ]
  },
  {
   "cell_type": "markdown",
   "id": "37",
   "metadata": {},
   "source": [
    "_Write your answer here._"
   ]
  },
  {
   "cell_type": "markdown",
   "id": "38",
   "metadata": {},
   "source": [
    "Save the notebook after finishing the exercise.\n",
    "\n",
    "[Answer](../32_Answers/Answers_01_5_04.ipynb)"
   ]
  },
  {
   "cell_type": "markdown",
   "id": "39",
   "metadata": {},
   "source": [
    "### 1.5.6 Adding cells"
   ]
  },
  {
   "cell_type": "markdown",
   "id": "40",
   "metadata": {},
   "source": [
    "If you're writing a longer study note, you may prefer to\n",
    "have it in a separate cell. Here's the quickest way to do it:"
   ]
  },
  {
   "cell_type": "markdown",
   "id": "41",
   "metadata": {},
   "source": [
    "1. Click on the paragraph above to select it and switch to command mode.\n",
    "1. Press B (not Shift-B).\n",
    "   This adds a code cell below the paragraph and selects it.\n",
    "   You can spot it's a code cell because\n",
    "   there's a placeholder for a counter on the left, and the tool bar changed.\n",
    "\n",
    "<p id=\"fig-1.5.2\"></p>\n",
    "\n",
    "*[Figure 1.5.2](../33_Figures/Figures_01_5.ipynb#Figure-1.5.2)*\n",
    "\n",
    "![Image 01_5_code_indicator.png](01_5_code_indicator.png)\n",
    "\n",
    "3. Press M (not Shift-M) to change the code cell to a text (Markdown) cell.\n",
    "1. Press Enter to switch to edit mode. You can now start writing your note.\n",
    "1. If you don't want to write a note and prefer to delete the created cell,\n",
    "   press Esc to get back to command mode and press D (not Shift-D) twice.\n",
    "\n",
    "To add a new cell above (instead of below) the currently selected one,\n",
    "press A instead of B.\n",
    "\n",
    "You can now save this notebook, open the next one, and close and halt this one."
   ]
  },
  {
   "cell_type": "markdown",
   "id": "42",
   "metadata": {},
   "source": [
    "⟵ [Previous section](01_4_notebooks.ipynb) | [Up](01-introduction.ipynb) | [Next section](01_6_code.ipynb) ⟶"
   ]
  }
 ],
 "metadata": {
  "kernelspec": {
   "display_name": "Python 3",
   "language": "python",
   "name": "python3"
  },
  "language_info": {
   "codemirror_mode": {
    "name": "ipython",
    "version": 3
   },
   "file_extension": ".py",
   "mimetype": "text/x-python",
   "name": "python",
   "nbconvert_exporter": "python",
   "pygments_lexer": "ipython3",
   "version": "3.11.9"
  }
 },
 "nbformat": 4,
 "nbformat_minor": 5
}
