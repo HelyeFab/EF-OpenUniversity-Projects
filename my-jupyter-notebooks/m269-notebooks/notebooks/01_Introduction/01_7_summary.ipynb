{
 "cells": [
  {
   "cell_type": "markdown",
   "id": "0",
   "metadata": {},
   "source": [
    "## 1.7 Summary"
   ]
  },
  {
   "cell_type": "markdown",
   "id": "1",
   "metadata": {},
   "source": [
    "The following summarises the main points about using notebooks.\n",
    "You may wish to print this notebook or keep it open\n",
    "until you're familiar with the commands.\n",
    "\n",
    "I follow the convention of writing letter keys\n",
    "as they're printed on keyboards: in uppercase.\n",
    "Ctrl-A means to just press those two keys and is different from Ctrl-Shift-A.\n",
    "Likewise, A and Shift-A are different commands."
   ]
  },
  {
   "cell_type": "markdown",
   "id": "2",
   "metadata": {},
   "source": [
    "### 1.7.1 Notebooks"
   ]
  },
  {
   "cell_type": "markdown",
   "id": "3",
   "metadata": {},
   "source": [
    "A notebook is a sequence of text and code cells.\n",
    "At any point, the notebook is either in command or edit mode.\n",
    "The currently selected cell has a left bar:\n",
    "it's blue if in command mode and green if in edit mode.\n",
    "Running a cell executes its code, or formats the text if it's a text cell.\n",
    "\n",
    "Click anywhere on a text cell to select it and switch to command mode.\n",
    "Double-clicking reveals the Markdown source.\n",
    "\n",
    "Click to the left of a code cell to select it and switch to command mode.\n",
    "Clicking inside the cell switches to edit mode instead.\n",
    "\n",
    "To use notebooks in a productive way:\n",
    "\n",
    "- Prefer using the keyboard to the mouse.\n",
    "- Learn the common shortcuts to copy/cut/paste text, undo/redo edits, move the cursor to the start/end of the word/line, select text with the keyboard, etc.\n",
    "- Use your browser's search command to find any text in a notebook.\n",
    "- Create a checkpoint when you open the notebook and after completing each exercise.\n",
    "- Don't click on links to notebooks that are already open as this will open a second copy.\n",
    "- Create a keyboard shortcut for closing and halting a notebook.\n",
    "  Don't just close the browser's tab.\n",
    "\n",
    "After you closed and halted all notebooks, only the notebook dashboard is open.\n",
    "To finish your session, click one of the top right buttons of the dashboard:\n",
    "click 'Logout' if you're [using the VCE](../01_Introduction/01_3_software.ipynb#1.3.1-Using-the-VCE), otherwise\n",
    "click 'Quit' and close the dashboard's browser tab."
   ]
  },
  {
   "cell_type": "markdown",
   "id": "4",
   "metadata": {},
   "source": [
    "### 1.7.2 Common commands"
   ]
  },
  {
   "cell_type": "markdown",
   "id": "5",
   "metadata": {},
   "source": [
    "The following can be used in both edit mode and command mode.\n",
    "(If you're reading this section in HTML, you may have to scroll\n",
    "the next two tables to the right to see all their columns.)\n",
    "\n",
    "Effect | Key | Menu bar | Tool bar\n",
    ":-|:-|:-|:-\n",
    "save notebook, create checkpoint | Ctrl-S or Cmd-S | File > Save and Checkpoint | disk icon\n",
    "run current cell, switch to command mode | Ctrl-Enter or Cmd-Enter | Cell > Run Cells |\n",
    "list of keystrokes | | Help > Keyboard Shortcuts |\n",
    "run first to the last cell, stop at first error | | Cell > Run All |\n",
    "shutdown kernel, start new one, then as above |   |  Kernel > Restart & Run All\n",
    "run first to previous cell, stop at first error | | Cell > Run All Above |\n",
    "discard changes, reinstate last checkpoint | | File > Revert to Checkpoint |\n",
    "close notebook, shut down kernel | | File > Close and Halt |"
   ]
  },
  {
   "cell_type": "markdown",
   "id": "6",
   "metadata": {},
   "source": [
    "### 1.7.3 Command mode"
   ]
  },
  {
   "cell_type": "markdown",
   "id": "7",
   "metadata": {},
   "source": [
    "The following keyboard shortcuts can be used in command mode only.\n",
    "\n",
    "Effect | Key | Menu bar | Tool bar\n",
    ":-|:-|:-|:-\n",
    "select previous/next cell | up/down arrow | |\n",
    "add code cell above current cell, select it | A | Insert > Insert Cell Above | plus icon\n",
    "add code cell below current cell, select it | B | Insert > Insert Cell Below\n",
    "copy current cell  | C | Edit > Copy Cells | copy icon\n",
    "paste copied cell below current cell | V | Edit > Paste Cells Below | paste icon\n",
    "delete current cell  | DD | Edit > Delete Cells |\n",
    "replace text in the current cell or all cells | F | Edit > Find and Replace |\n",
    "change current cell to a (Markdown) text cell | M | | dropdown\n",
    "change current cell to a (pYthon) code cell | Y | | dropdown\n",
    "scroll the notebook down/up | Space / Shift-Space\n",
    "switch to edit mode | Enter"
   ]
  },
  {
   "cell_type": "markdown",
   "id": "8",
   "metadata": {},
   "source": [
    "### 1.7.4 Edit mode"
   ]
  },
  {
   "cell_type": "markdown",
   "id": "9",
   "metadata": {},
   "source": [
    "The following apply to text and code cells.\n",
    "\n",
    "Effect | Key\n",
    ":-|:-\n",
    "indent (move right) current line (or selected lines) | Ctrl-] or Cmd-]\n",
    "dedent (move left) current line (or selected lines) | Ctrl-[ or Cmd-[\n",
    "switch to command mode, don't run current cell | Esc\n",
    "\n",
    "The following only apply to code cells.\n",
    "\n",
    "Effect | Key\n",
    ":-|:-\n",
    "autocomplete the word to the left of the cursor | Tab\n",
    "comment/uncomment current line (or selected lines) | Ctrl-/ or Cmd-/"
   ]
  },
  {
   "cell_type": "markdown",
   "id": "10",
   "metadata": {},
   "source": [
    "⟵ [Previous section](01_6_code.ipynb) | [Up](01-introduction.ipynb) | [Next section](../02_Sequence/02-introduction.ipynb) ⟶"
   ]
  }
 ],
 "metadata": {
  "kernelspec": {
   "display_name": "Python 3",
   "language": "python",
   "name": "python3"
  },
  "language_info": {
   "codemirror_mode": {
    "name": "ipython",
    "version": 3
   },
   "file_extension": ".py",
   "mimetype": "text/x-python",
   "name": "python",
   "nbconvert_exporter": "python",
   "pygments_lexer": "ipython3",
   "version": "3.11.9"
  }
 },
 "nbformat": 4,
 "nbformat_minor": 5
}
