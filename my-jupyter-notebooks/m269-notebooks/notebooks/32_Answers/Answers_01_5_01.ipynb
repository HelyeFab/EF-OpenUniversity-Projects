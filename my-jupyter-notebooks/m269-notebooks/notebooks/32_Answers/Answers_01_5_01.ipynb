{
 "cells": [
  {
   "cell_type": "markdown",
   "id": "0",
   "metadata": {},
   "source": [
    "#### Exercise 1.5.1 answer"
   ]
  },
  {
   "cell_type": "markdown",
   "id": "1",
   "metadata": {},
   "source": [
    "After formatting the paragraph, it should look like this:"
   ]
  },
  {
   "cell_type": "markdown",
   "id": "2",
   "metadata": {},
   "source": [
    "Italics is used to *emphasise* text.\\\n",
    "Bold is used for **stronger** emphasis.\\\n",
    "Monospaced font is often used for text `the user has to type`."
   ]
  },
  {
   "cell_type": "markdown",
   "id": "3",
   "metadata": {},
   "source": [
    "If you want to see how I formatted the paragraph, just double-click it.\n",
    "This reveals the Markdown formatting while staying in command mode.\n",
    "To reformat the text, run the cell as usual.\n",
    "\n",
    "You can now close and halt this notebook and return to the section notebook."
   ]
  }
 ],
 "metadata": {
  "kernelspec": {
   "display_name": "Python 3",
   "language": "python",
   "name": "python3"
  },
  "language_info": {
   "codemirror_mode": {
    "name": "ipython",
    "version": 3
   },
   "file_extension": ".py",
   "mimetype": "text/x-python",
   "name": "python",
   "nbconvert_exporter": "python",
   "pygments_lexer": "ipython3",
   "version": "3.11.9"
  }
 },
 "nbformat": 4,
 "nbformat_minor": 5
}
