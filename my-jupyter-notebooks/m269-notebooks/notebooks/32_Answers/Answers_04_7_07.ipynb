{
 "cells": [
  {
   "cell_type": "markdown",
   "id": "0",
   "metadata": {},
   "source": [
    "#### Exercise 4.7.7 answer"
   ]
  },
  {
   "cell_type": "code",
   "execution_count": 1,
   "id": "1",
   "metadata": {},
   "outputs": [
    {
     "name": "stdout",
     "output_type": "stream",
     "text": [
      "Tests finished.\n"
     ]
    }
   ],
   "source": [
    "def reverse_in_place(values: list) -> None:\n",
    "    \"\"\"Reverse the order of the values.\n",
    "\n",
    "    Postconditions: post-values = [pre-values[len(pre-values) - 1],\n",
    "        ..., pre-values[1], pre-values[0]]\n",
    "    \"\"\"\n",
    "    left_index = 0\n",
    "    right_index = len(values) - 1\n",
    "    while left_index < right_index:\n",
    "        left_item = values[left_index]\n",
    "        values[left_index] = values[right_index]\n",
    "        values[right_index] = left_item\n",
    "        left_index = left_index + 1\n",
    "        right_index = right_index - 1\n",
    "\n",
    "def test_reverse_in_place(test_table: list) -> None:\n",
    "    \"\"\"Report which tests for the reverse_in_place function fail.\"\"\"\n",
    "    for test_case in test_table:\n",
    "        name = test_case[0]\n",
    "        values = test_case[1]\n",
    "        reversed = test_case[2]\n",
    "        reverse_in_place(values)\n",
    "        if values != reversed:\n",
    "            print(name, 'FAILED:', values, 'instead of', reversed)\n",
    "    print('Tests finished.')\n",
    "\n",
    "reversed_list_tests = [\n",
    "    # case,             values,             reversed\n",
    "    ('empty list',      [],                 []              ),\n",
    "    ('length 1',        [4],                [4]             ),\n",
    "    ('length 2',        [5, True],          [True, 5]       ),\n",
    "    ('length 5',        [5, 6, 7, 8, 9],    [9, 8, 7, 6, 5] ),\n",
    "    ('same items',      [0, 0, 0],          [0, 0, 0]       )\n",
    "]\n",
    "\n",
    "test_reverse_in_place(reversed_list_tests)"
   ]
  }
 ],
 "metadata": {
  "kernelspec": {
   "display_name": "Python 3",
   "language": "python",
   "name": "python3"
  },
  "language_info": {
   "codemirror_mode": {
    "name": "ipython",
    "version": 3
   },
   "file_extension": ".py",
   "mimetype": "text/x-python",
   "name": "python",
   "nbconvert_exporter": "python",
   "pygments_lexer": "ipython3",
   "version": "3.11.9"
  }
 },
 "nbformat": 4,
 "nbformat_minor": 5
}
