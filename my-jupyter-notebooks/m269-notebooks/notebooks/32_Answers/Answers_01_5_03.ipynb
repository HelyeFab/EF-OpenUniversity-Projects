{
 "cells": [
  {
   "cell_type": "markdown",
   "id": "0",
   "metadata": {},
   "source": [
    "#### Exercise 1.5.3 answer"
   ]
  },
  {
   "cell_type": "markdown",
   "id": "1",
   "metadata": {},
   "source": [
    "Here's one example table. I left the Windows column empty as I'm a Mac user.\n",
    "\n",
    "macOS | Windows | Effect\n",
    "-|-|-\n",
    "Cmd-A | | select all text in the cell\n",
    "Cmd-C | | copy the selected text\n",
    "Cmd-X | | cut (i.e. copy and remove) the selected text\n",
    "Cmd-V | | paste the selected text at the cursor position\n",
    "Cmd-Z | | undo the last edit in this cell\n",
    "Cmd-Y | | redo the undone edit\n",
    "Alt-Backspace | | delete the previous word\n",
    "Cmd-Backspace | | delete everything from the start of the line to the cursor"
   ]
  }
 ],
 "metadata": {
  "kernelspec": {
   "display_name": "Python 3",
   "language": "python",
   "name": "python3"
  },
  "language_info": {
   "codemirror_mode": {
    "name": "ipython",
    "version": 3
   },
   "file_extension": ".py",
   "mimetype": "text/x-python",
   "name": "python",
   "nbconvert_exporter": "python",
   "pygments_lexer": "ipython3",
   "version": "3.11.9"
  }
 },
 "nbformat": 4,
 "nbformat_minor": 5
}
