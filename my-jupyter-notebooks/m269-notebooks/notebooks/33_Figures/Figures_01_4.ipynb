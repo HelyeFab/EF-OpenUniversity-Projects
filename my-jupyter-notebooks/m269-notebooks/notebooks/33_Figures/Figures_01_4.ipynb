{
 "cells": [
  {
   "cell_type": "markdown",
   "id": "0",
   "metadata": {},
   "source": [
    "### 31.1.2 Notebooks"
   ]
  },
  {
   "cell_type": "markdown",
   "id": "1",
   "metadata": {},
   "source": [
    "#### Figure 1.4.1"
   ]
  },
  {
   "cell_type": "markdown",
   "id": "2",
   "metadata": {},
   "source": [
    "This screenshot shows the start of this notebook."
   ]
  },
  {
   "cell_type": "markdown",
   "id": "3",
   "metadata": {},
   "source": [
    "#### Figure 1.4.2"
   ]
  },
  {
   "cell_type": "markdown",
   "id": "4",
   "metadata": {},
   "source": [
    "This screenshot shows, from left to right, the Jupyter logo,\n",
    "the name of the notebook file, which is 01_4_notebooks, and\n",
    "the checkpoint creation message, which is\n",
    "'Last checkpoint: a few seconds ago'"
   ]
  },
  {
   "cell_type": "markdown",
   "id": "5",
   "metadata": {},
   "source": [
    "#### Figure 1.4.3"
   ]
  },
  {
   "cell_type": "markdown",
   "id": "6",
   "metadata": {},
   "source": [
    "This screenshot shows the start of this notebook, after the tour.\n",
    "The first cell has a blue bar on the left and shows the Markdown source text,\n",
    "which is '## 1.4 Notebooks'."
   ]
  },
  {
   "cell_type": "markdown",
   "id": "7",
   "metadata": {},
   "source": [
    "#### Figure 1.4.4"
   ]
  },
  {
   "cell_type": "markdown",
   "id": "8",
   "metadata": {},
   "source": [
    "This screenshot show Jupyter's File menu. The last option is\n",
    "'Revert to Checkpoint' and is selected. It has a submenu with a single option:\n",
    "Tuesday, September 22, 2020 11:34 AM."
   ]
  },
  {
   "cell_type": "markdown",
   "id": "9",
   "metadata": {},
   "source": [
    "#### Figure 1.4.5"
   ]
  },
  {
   "cell_type": "markdown",
   "id": "10",
   "metadata": {},
   "source": [
    "This screenshot shows a dialogue titled 'Edit Command mode Shortcuts'.\n",
    "It has an x-shaped button in the top right to close the dialogue and\n",
    "an OK button in the bottom right. The dialogue has many rows, one per command.\n",
    "The row for the command 'close and halt' is being edited.\n",
    "A box with blue border has the text 'Alt-Q'."
   ]
  },
  {
   "cell_type": "markdown",
   "id": "11",
   "metadata": {},
   "source": [
    "⟵ [Previous section](33-introduction.ipynb) | [Up](33-introduction.ipynb) | [Next section](Figures_04.ipynb) ⟶"
   ]
  }
 ],
 "metadata": {
  "kernelspec": {
   "display_name": "Python 3",
   "language": "python",
   "name": "python3"
  },
  "language_info": {
   "codemirror_mode": {
    "name": "ipython",
    "version": 3
   },
   "file_extension": ".py",
   "mimetype": "text/x-python",
   "name": "python",
   "nbconvert_exporter": "python",
   "pygments_lexer": "ipython3",
   "version": "3.11.9"
  }
 },
 "nbformat": 4,
 "nbformat_minor": 5
}
