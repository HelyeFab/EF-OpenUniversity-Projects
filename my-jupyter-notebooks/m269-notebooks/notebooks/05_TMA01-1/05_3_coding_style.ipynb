{
 "cells": [
  {
   "cell_type": "markdown",
   "id": "0",
   "metadata": {},
   "source": [
    "## 5.3 Coding style"
   ]
  },
  {
   "cell_type": "markdown",
   "id": "1",
   "metadata": {},
   "source": [
    "General:\n",
    "\n",
    "- Use descriptive names. Avoid abbreviations and single-letter names.\n",
    "- Use 4&nbsp;spaces for each indentation level.\n",
    "- Keep lines shorter than 80 characters, to comfortably fit within the screen.\n",
    "- Write docstrings and multi-line strings between three double quotes.\n",
    "\n",
    "Variables:\n",
    "\n",
    "- Write variable names in lowercase, with underscores separating words, e.g. `test_case`.\n",
    "- Write constant names in uppercase, with underscores separating words, e.g. `TEST_CASE`.\n",
    "\n",
    "Functions:\n",
    "\n",
    "- Write function names in lowercase, with underscores separating words.\n",
    "- A function name should describe *what* the function returns or does, not\n",
    "  *how* it works, unless you have several functions solving the same problem.\n",
    "- Indicate the type of each parameter and the output, with type annotations.\n",
    "- Write a docstring for each function.\n",
    "- If you're implementing a function in the mathematical sense,\n",
    "  make sure your Python function doesn't modify any input."
   ]
  },
  {
   "cell_type": "markdown",
   "id": "2",
   "metadata": {},
   "source": [
    "<div class=\"alert alert-info\">\n",
    "<strong>Info:</strong> This and later coding style guidance is partly based on\n",
    "<a href=\"https://www.python.org/dev/peps/pep-0008\">Style Guide for Python Code</a>\n",
    "(better known as PEP 8) and\n",
    "<a href=\"https://www.python.org/dev/peps/pep-0257\">Docstring Conventions</a>\n",
    "(PEP 257).\n",
    "</div>"
   ]
  },
  {
   "cell_type": "markdown",
   "id": "3",
   "metadata": {},
   "source": [
    "### 5.3.1 The Zen of Python"
   ]
  },
  {
   "cell_type": "markdown",
   "id": "4",
   "metadata": {},
   "source": [
    "The following is about the design of the Python language, but we should strive\n",
    "for the same aims of simplicity, clarity and readability\n",
    "when designing, implementing, documenting and testing our algorithms."
   ]
  },
  {
   "cell_type": "code",
   "execution_count": 1,
   "id": "5",
   "metadata": {},
   "outputs": [
    {
     "name": "stdout",
     "output_type": "stream",
     "text": [
      "The Zen of Python, by Tim Peters\n",
      "\n",
      "Beautiful is better than ugly.\n",
      "Explicit is better than implicit.\n",
      "Simple is better than complex.\n",
      "Complex is better than complicated.\n",
      "Flat is better than nested.\n",
      "Sparse is better than dense.\n",
      "Readability counts.\n",
      "Special cases aren't special enough to break the rules.\n",
      "Although practicality beats purity.\n",
      "Errors should never pass silently.\n",
      "Unless explicitly silenced.\n",
      "In the face of ambiguity, refuse the temptation to guess.\n",
      "There should be one-- and preferably only one --obvious way to do it.\n",
      "Although that way may not be obvious at first unless you're Dutch.\n",
      "Now is better than never.\n",
      "Although never is often better than *right* now.\n",
      "If the implementation is hard to explain, it's a bad idea.\n",
      "If the implementation is easy to explain, it may be a good idea.\n",
      "Namespaces are one honking great idea -- let's do more of those!\n"
     ]
    }
   ],
   "source": [
    "import this"
   ]
  },
  {
   "cell_type": "markdown",
   "id": "6",
   "metadata": {},
   "source": [
    "<div class=\"alert alert-info\">\n",
    "<strong>Info:</strong> Tim Peters contributed to the design and implementation of Python.\n",
    "The creator of Python, Guido van Rossum, is Dutch.\n",
    "</div>"
   ]
  },
  {
   "cell_type": "markdown",
   "id": "7",
   "metadata": {},
   "source": [
    "### 5.3.2 Linters"
   ]
  },
  {
   "cell_type": "markdown",
   "id": "8",
   "metadata": {},
   "source": [
    "Many software companies expect their developers to follow the same coding style,\n",
    "as it makes it easier to understand each others' code and to onboard new developers.\n",
    "Professional developers tend to use tools that automatically check their code.\n",
    "Such tools are called linters.\n",
    "\n",
    "One of the best linters for Python is Ruff, which is included in the M269&nbsp;software.\n",
    "All TMA notebooks have code like this:"
   ]
  },
  {
   "cell_type": "code",
   "execution_count": 2,
   "id": "9",
   "metadata": {},
   "outputs": [
    {
     "name": "stdout",
     "output_type": "stream",
     "text": [
      "ruff was activated\n"
     ]
    }
   ],
   "source": [
    "%load_ext algoesup.magics\n",
    "%ruff on"
   ]
  },
  {
   "cell_type": "markdown",
   "id": "10",
   "metadata": {},
   "source": [
    "After this code is executed, each time you run a code cell,\n",
    "it is automatically linted, like this:"
   ]
  },
  {
   "cell_type": "code",
   "execution_count": 3,
   "id": "11",
   "metadata": {},
   "outputs": [
    {
     "data": {
      "text/markdown": [
       "**ruff** found issues:\n",
       "\n",
       "- 1: \\[[D103](https://docs.astral.sh/ruff/rules/undocumented-public-function)\\] Missing docstring in public function\n",
       "- 1: \\[[A002](https://docs.astral.sh/ruff/rules/builtin-argument-shadowing)\\] Argument `list` is shadowing a Python builtin\n",
       "- 2: \\[[E741](https://docs.astral.sh/ruff/rules/ambiguous-variable-name)\\] Ambiguous variable name: `l`\n",
       "- 3: \\[[B007](https://docs.astral.sh/ruff/rules/unused-loop-control-variable)\\] Loop control variable `value` not used within loop body. Suggested fix: Rename unused `value` to `_value`\n",
       "- 4: \\[[E741](https://docs.astral.sh/ruff/rules/ambiguous-variable-name)\\] Ambiguous variable name: `l`"
      ]
     },
     "metadata": {},
     "output_type": "display_data"
    }
   ],
   "source": [
    "def length(list):\n",
    "    l = 0\n",
    "    for value in list:\n",
    "        l = l + 1"
   ]
  },
  {
   "cell_type": "markdown",
   "id": "12",
   "metadata": {},
   "source": [
    "Ruff reports the line and number of each issue, e.g. lines 2 and 4&nbsp;have issue E741.\n",
    "Clicking on the issue number takes you to Ruff's manual for further explanation,\n",
    "e.g. to understand why `l` is an ambiguous name, click on E741.\n",
    "\n",
    "While Ruff detects some problems,\n",
    "like the absence of a docstring and the use of a type name for a variable,\n",
    "it doesn't detect others, like the absence of type annotations and `return`.\n",
    "\n",
    "Sometimes it's difficult to keep lines shorter than 80 characters, especially\n",
    "when using descriptive names. Ruff therefore only flags lines longer than 88 characters.\n",
    "\n",
    "Ruff is meant for professional developers and thus will make suggestions that don't apply to M269.\n",
    "For example, it suggests to prepend `value` with an underscore, to explicitly\n",
    "indicate that the variable isn't used in the loop's body.\n",
    "That's a Python convention you haven't learned, as it's rarely needed,\n",
    "so you can ignore the suggestion. However, in cases where you have actually forgotten\n",
    "to use the loop's variable in the loop's body, change the loop's body."
   ]
  },
  {
   "cell_type": "markdown",
   "id": "13",
   "metadata": {},
   "source": [
    "<div class=\"alert alert-warning\">\n",
    "<strong>Note:</strong> It's OK to ignore some of Ruff's suggestions. When in doubt if they are relevant,\n",
    "post them in the Technical Forum (without your TMA's code, of course).\n",
    "</div>"
   ]
  },
  {
   "cell_type": "markdown",
   "id": "14",
   "metadata": {},
   "source": [
    "All TMA notebooks also contain code like this:"
   ]
  },
  {
   "cell_type": "code",
   "execution_count": 4,
   "id": "15",
   "metadata": {},
   "outputs": [
    {
     "name": "stdout",
     "output_type": "stream",
     "text": [
      "allowed was activated\n"
     ]
    }
   ],
   "source": [
    "import platform  # allowed\n",
    "\n",
    "if platform.system() in ('Linux', 'Darwin'):\n",
    "    %allowed on --config m269-24j --unit 5 --method\n",
    "else:\n",
    "    %allowed on --config m269-24j --unit 5"
   ]
  },
  {
   "cell_type": "markdown",
   "id": "16",
   "metadata": {},
   "source": [
    "This makes the `allowed` linter, also included in the M269&nbsp;software, check your code\n",
    "against the Python subset taught until chapter&nbsp;5 of this book. On Linux and macOS,\n",
    "it will also check some method calls. Here's an example:"
   ]
  },
  {
   "cell_type": "code",
   "execution_count": 5,
   "id": "17",
   "metadata": {},
   "outputs": [
    {
     "data": {
      "text/markdown": [
       "**allowed** found issues:\n",
       "\n",
       "- 1: sqrt\n",
       "- 5: dict literal\n",
       "- 7: list.count()\n",
       "- 8: pass"
      ]
     },
     "metadata": {},
     "output_type": "display_data"
    },
    {
     "data": {
      "text/markdown": [
       "**ruff** found issues:\n",
       "\n",
       "- 5: \\[[F841](https://docs.astral.sh/ruff/rules/unused-variable)\\] Local variable `arabic_to_roman` is assigned to but never used. Suggested fix: Remove assignment to unused variable `arabic_to_roman`"
      ]
     },
     "metadata": {},
     "output_type": "display_data"
    }
   ],
   "source": [
    "from math import sqrt\n",
    "\n",
    "def some_function(n: int) -> int:\n",
    "    \"\"\"To be implemented.\"\"\"\n",
    "    arabic_to_roman = {1: \"I\", 5: \"V\"}\n",
    "    numbers = [1, 2, 1, 0]\n",
    "    numbers.count(1)\n",
    "    pass"
   ]
  },
  {
   "cell_type": "markdown",
   "id": "18",
   "metadata": {},
   "source": [
    "The `sqrt` function, the dictionary literal and the `pass` statement are flagged\n",
    "because they aren't taught in Chapters 1 to 5. (They will be introduced later.)\n",
    "The `count` method on lists, which isn't used in M269, is also flagged because I use macOS."
   ]
  },
  {
   "cell_type": "markdown",
   "id": "19",
   "metadata": {},
   "source": [
    "<div class=\"alert alert-warning\">\n",
    "<strong>Note:</strong> If you are on Windows, you can check method calls by uploading your TMA to\n",
    "the Open Computing Lab and running all cells there.\n",
    "</div>"
   ]
  },
  {
   "cell_type": "markdown",
   "id": "20",
   "metadata": {},
   "source": [
    "Like Ruff, `allowed` is unable to detect every issue, e.g.\n",
    "it will let pass some disallowed method calls, even on Linux and macOS."
   ]
  },
  {
   "cell_type": "markdown",
   "id": "21",
   "metadata": {},
   "source": [
    "<div class=\"alert alert-warning\">\n",
    "<strong>Note:</strong> Even if Ruff or <code>allowed</code> don't flag anything, the code may have issues.\n",
    "Always read your code carefully before submitting your TMA.\n",
    "</div>"
   ]
  },
  {
   "cell_type": "markdown",
   "id": "22",
   "metadata": {},
   "source": [
    "<div class=\"alert alert-info\">\n",
    "<strong>Info:</strong> The <code>allowed</code> linter was co-written by former M269&nbsp;students.\n",
    "If you're interested in contributing to the tool's development,\n",
    "see its <a href=\"https://dsa-ou.github.io/allowed/\">website</a>.\n",
    "</div>"
   ]
  },
  {
   "cell_type": "markdown",
   "id": "23",
   "metadata": {},
   "source": [
    "⟵ [Previous section](05_2_algorithms.ipynb) | [Up](05-introduction.ipynb) | [Next section](../06_Implementing/06-introduction.ipynb) ⟶"
   ]
  }
 ],
 "metadata": {
  "kernelspec": {
   "display_name": "Python 3",
   "language": "python",
   "name": "python3"
  },
  "language_info": {
   "codemirror_mode": {
    "name": "ipython",
    "version": 3
   },
   "file_extension": ".py",
   "mimetype": "text/x-python",
   "name": "python",
   "nbconvert_exporter": "python",
   "pygments_lexer": "ipython3",
   "version": "3.11.9"
  }
 },
 "nbformat": 4,
 "nbformat_minor": 5
}
