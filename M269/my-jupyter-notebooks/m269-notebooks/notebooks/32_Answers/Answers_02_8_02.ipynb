{
 "cells": [
  {
   "cell_type": "markdown",
   "id": "0",
   "metadata": {},
   "source": [
    "#### Exercise 2.8.2 answer"
   ]
  },
  {
   "cell_type": "markdown",
   "id": "1",
   "metadata": {},
   "source": [
    "I chose the modulo operation."
   ]
  },
  {
   "cell_type": "code",
   "execution_count": 1,
   "id": "2",
   "metadata": {},
   "outputs": [
    {
     "name": "stdout",
     "output_type": "stream",
     "text": [
      "23.8 ns ± 4.82 ns per loop (mean ± std. dev. of 6 runs, 2,000,000 loops each)\n",
      "21.5 ns ± 0.0642 ns per loop (mean ± std. dev. of 6 runs, 2,000,000 loops each)\n",
      "16.7 ns ± 0.0646 ns per loop (mean ± std. dev. of 6 runs, 2,000,000 loops each)\n",
      "16.9 ns ± 0.103 ns per loop (mean ± std. dev. of 6 runs, 2,000,000 loops each)\n",
      "16.8 ns ± 0.124 ns per loop (mean ± std. dev. of 6 runs, 2,000,000 loops each)\n"
     ]
    }
   ],
   "source": [
    "left =  2222\n",
    "right = 7777\n",
    "%timeit -r 6 -n 2000000 left % right   # 4 digits\n",
    "left =  22222222\n",
    "right = 77777777\n",
    "%timeit -r 6 -n 2000000 left % right   # 8 digits\n",
    "left =  2222222222222222\n",
    "right = 7777777777777777\n",
    "%timeit -r 6 -n 2000000 left % right   # 16 digits\n",
    "left =  22222222222222222222222222222222\n",
    "right = 77777777777777777777777777777777\n",
    "%timeit -r 6 -n 2000000 left % right   # 32 digits\n",
    "left =  2222222222222222222222222222222222222222222222222222222222222222\n",
    "right = 7777777777777777777777777777777777777777777777777777777777777777\n",
    "%timeit -r 6 -n 2000000 left % right   # 64 digits"
   ]
  },
  {
   "cell_type": "markdown",
   "id": "3",
   "metadata": {},
   "source": [
    "The run-times are similar, which suggests constant complexity. In fact,\n",
    "for all the above cases, we have 0 < *left* < *right* and thus *left* mod *right* = *left*,\n",
    "which means that the modulo can indeed be computed in constant time.\n",
    "Let's try *left* > *right* > 0."
   ]
  },
  {
   "cell_type": "code",
   "execution_count": 2,
   "id": "4",
   "metadata": {},
   "outputs": [
    {
     "name": "stdout",
     "output_type": "stream",
     "text": [
      "21.6 ns ± 0.0636 ns per loop (mean ± std. dev. of 6 runs, 2,000,000 loops each)\n",
      "22 ns ± 0.157 ns per loop (mean ± std. dev. of 6 runs, 2,000,000 loops each)\n",
      "44.4 ns ± 0.526 ns per loop (mean ± std. dev. of 6 runs, 2,000,000 loops each)\n",
      "48.4 ns ± 0.109 ns per loop (mean ± std. dev. of 6 runs, 2,000,000 loops each)\n",
      "62.7 ns ± 0.73 ns per loop (mean ± std. dev. of 6 runs, 2,000,000 loops each)\n"
     ]
    }
   ],
   "source": [
    "left =  7777\n",
    "right = 2222\n",
    "%timeit -r 6 -n 2000000 left % right   # 4 digits\n",
    "left =  77777777\n",
    "right = 22222222\n",
    "%timeit -r 6 -n 2000000 left % right   # 8 digits\n",
    "left =  7777777777777777\n",
    "right = 2222222222222222\n",
    "%timeit -r 6 -n 2000000 left % right   # 16 digits\n",
    "left =  77777777777777777777777777777777\n",
    "right = 22222222222222222222222222222222\n",
    "%timeit -r 6 -n 2000000 left % right   # 32 digits\n",
    "left =  7777777777777777777777777777777777777777777777777777777777777777\n",
    "right = 2222222222222222222222222222222222222222222222222222222222222222\n",
    "%timeit -r 6 -n 2000000 left % right   # 64 digits"
   ]
  },
  {
   "cell_type": "markdown",
   "id": "5",
   "metadata": {},
   "source": [
    "While the run-times do increase, they do not double as the number of digits doubles,\n",
    "which suggests that the modulo can be computed in less than linear time in the size of the operands.\n",
    "Anyhow, as for addition, we will treat modulo as a constant-time operation if\n",
    "the operands are 64-bit integers."
   ]
  }
 ],
 "metadata": {
  "kernelspec": {
   "display_name": "Python 3",
   "language": "python",
   "name": "python3"
  },
  "language_info": {
   "codemirror_mode": {
    "name": "ipython",
    "version": 3
   },
   "file_extension": ".py",
   "mimetype": "text/x-python",
   "name": "python",
   "nbconvert_exporter": "python",
   "pygments_lexer": "ipython3",
   "version": "3.11.9"
  }
 },
 "nbformat": 4,
 "nbformat_minor": 5
}
