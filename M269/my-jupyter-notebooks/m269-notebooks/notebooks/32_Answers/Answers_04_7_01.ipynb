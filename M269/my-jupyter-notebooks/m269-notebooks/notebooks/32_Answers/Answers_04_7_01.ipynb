{
 "cells": [
  {
   "cell_type": "markdown",
   "id": "0",
   "metadata": {},
   "source": [
    "#### Exercise 4.7.1 answer"
   ]
  },
  {
   "cell_type": "markdown",
   "id": "1",
   "metadata": {},
   "source": [
    "The original algorithm went through the original list from left to right,\n",
    "inserting each item at the start of the reversed list.\n",
    "This algorithm goes through the original list in the reverse order\n",
    "and appends each item to the reversed list.\n",
    "\n",
    "1. let *reversed* be the empty sequence\n",
    "2. for each *index* from │*values*│ - 1 down to 0:\n",
    "   1. append *values*[*index*] to *reversed*"
   ]
  }
 ],
 "metadata": {
  "kernelspec": {
   "display_name": "Python 3",
   "language": "python",
   "name": "python3"
  },
  "language_info": {
   "codemirror_mode": {
    "name": "ipython",
    "version": 3
   },
   "file_extension": ".py",
   "mimetype": "text/x-python",
   "name": "python",
   "nbconvert_exporter": "python",
   "pygments_lexer": "ipython3",
   "version": "3.11.9"
  }
 },
 "nbformat": 4,
 "nbformat_minor": 5
}
