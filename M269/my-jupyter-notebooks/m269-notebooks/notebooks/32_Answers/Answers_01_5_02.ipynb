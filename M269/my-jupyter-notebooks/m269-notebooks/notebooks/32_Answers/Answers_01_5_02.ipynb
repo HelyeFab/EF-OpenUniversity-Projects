{
 "cells": [
  {
   "cell_type": "markdown",
   "id": "0",
   "metadata": {},
   "source": [
    "#### Exercise 1.5.2 answer"
   ]
  },
  {
   "cell_type": "markdown",
   "id": "1",
   "metadata": {},
   "source": [
    "1. boil water\n",
    "1. put a teabag in a cup\n",
    "1. pour the water\n",
    "1. optionally add:\n",
    "   - milk\n",
    "   - sugar\n",
    "1. drink"
   ]
  }
 ],
 "metadata": {
  "kernelspec": {
   "display_name": "Python 3",
   "language": "python",
   "name": "python3"
  },
  "language_info": {
   "codemirror_mode": {
    "name": "ipython",
    "version": 3
   },
   "file_extension": ".py",
   "mimetype": "text/x-python",
   "name": "python",
   "nbconvert_exporter": "python",
   "pygments_lexer": "ipython3",
   "version": "3.11.9"
  }
 },
 "nbformat": 4,
 "nbformat_minor": 5
}
