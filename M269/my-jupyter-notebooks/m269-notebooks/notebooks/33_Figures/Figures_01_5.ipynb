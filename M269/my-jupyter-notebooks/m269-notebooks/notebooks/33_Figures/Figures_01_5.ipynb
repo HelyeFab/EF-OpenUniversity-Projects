{
 "cells": [
  {
   "cell_type": "markdown",
   "id": "0",
   "metadata": {},
   "source": [
    "### 31.1.3 Text cells"
   ]
  },
  {
   "cell_type": "markdown",
   "id": "1",
   "metadata": {},
   "source": [
    "#### Figure 1.5.1"
   ]
  },
  {
   "cell_type": "markdown",
   "id": "2",
   "metadata": {},
   "source": [
    "A deconstructed cow."
   ]
  },
  {
   "cell_type": "markdown",
   "id": "3",
   "metadata": {},
   "source": [
    "#### Figure 1.5.2"
   ]
  },
  {
   "cell_type": "markdown",
   "id": "4",
   "metadata": {},
   "source": [
    "This screenshot shows the Jupyter toolbar button that allows you to\n",
    "change the type of the current cell. The button is between\n",
    "the fast-forward icon to its left and the keyboard icon to its right.\n",
    "In the screenshot, the button's label is 'Code'."
   ]
  },
  {
   "cell_type": "markdown",
   "id": "5",
   "metadata": {},
   "source": [
    "⟵ [Previous section](33-introduction.ipynb) | [Up](33-introduction.ipynb) | [Next section](Figures_04.ipynb) ⟶"
   ]
  }
 ],
 "metadata": {
  "kernelspec": {
   "display_name": "Python 3",
   "language": "python",
   "name": "python3"
  },
  "language_info": {
   "codemirror_mode": {
    "name": "ipython",
    "version": 3
   },
   "file_extension": ".py",
   "mimetype": "text/x-python",
   "name": "python",
   "nbconvert_exporter": "python",
   "pygments_lexer": "ipython3",
   "version": "3.11.9"
  }
 },
 "nbformat": 4,
 "nbformat_minor": 5
}
