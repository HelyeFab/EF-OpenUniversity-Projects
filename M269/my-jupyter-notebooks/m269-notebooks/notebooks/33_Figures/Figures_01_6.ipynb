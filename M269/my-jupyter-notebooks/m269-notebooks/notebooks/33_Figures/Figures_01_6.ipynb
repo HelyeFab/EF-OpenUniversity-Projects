{
 "cells": [
  {
   "cell_type": "markdown",
   "id": "0",
   "metadata": {},
   "source": [
    "### 31.1.4 Code cells"
   ]
  },
  {
   "cell_type": "markdown",
   "id": "1",
   "metadata": {},
   "source": [
    "#### Figure 1.6.1"
   ]
  },
  {
   "cell_type": "markdown",
   "id": "2",
   "metadata": {},
   "source": [
    "This screenshot shows two code cells, both with counter 1 to their left.\n",
    "The second cell, which prints variable a_number, has an error message below it,\n",
    "stating that name a_number isn't defined."
   ]
  },
  {
   "cell_type": "markdown",
   "id": "3",
   "metadata": {},
   "source": [
    "#### Figure 1.6.2"
   ]
  },
  {
   "cell_type": "markdown",
   "id": "4",
   "metadata": {},
   "source": [
    "This screenshot shows the same two code cells. The first cell has counter 2\n",
    "and the second cell has counter 3."
   ]
  },
  {
   "cell_type": "markdown",
   "id": "5",
   "metadata": {},
   "source": [
    "#### Figure 1.6.3"
   ]
  },
  {
   "cell_type": "markdown",
   "id": "6",
   "metadata": {},
   "source": [
    "This screenshot shows a code cell with incomplete code, only `print(a`.\n",
    "Below the letter a, there's a menu with several words starting with letter a:\n",
    "a_number, abs, all, any, ascii, etc."
   ]
  },
  {
   "cell_type": "markdown",
   "id": "7",
   "metadata": {},
   "source": [
    "#### Figure 1.6.4"
   ]
  },
  {
   "cell_type": "markdown",
   "id": "8",
   "metadata": {},
   "source": [
    "This screenshot shows the same code cell with a menu of completions below it.\n",
    "Now the code cell has an extra underscore at the end, and the completions menu\n",
    "has a single entry: a_number."
   ]
  },
  {
   "cell_type": "markdown",
   "id": "9",
   "metadata": {},
   "source": [
    "#### Figure 1.6.5"
   ]
  },
  {
   "cell_type": "markdown",
   "id": "10",
   "metadata": {},
   "source": [
    "This screenshot shows Jupyter's Find and Replace dialogue.\n",
    "It has an x-shaped button in the top right-hand corner to close it and\n",
    "a 'Replace All' button in the bottom right. The first row of the dialogue\n",
    "consists of three buttons and a text box, which shows the search string,\n",
    "namely `list_length`. The first button has label uppercase A lowercase a.\n",
    "The second button has label dot asterisk.\n",
    "The third button's label is an updown arrow.\n",
    "Below the buttons is a currently empty text box for the replacement text.\n",
    "Below the replacement text is a list of lines in the current cell that\n",
    "match the search string. There's a single match,\n",
    "which is `list_length(['on your marks', ...`"
   ]
  },
  {
   "cell_type": "markdown",
   "id": "11",
   "metadata": {},
   "source": [
    "#### Figure 1.6.6"
   ]
  },
  {
   "cell_type": "markdown",
   "id": "12",
   "metadata": {},
   "source": [
    "This screenshot shows the same Find and Replace dialogue, but now the\n",
    "updown arrow button is selected and the list shows all 6 matches for\n",
    "list_length in this notebook."
   ]
  },
  {
   "cell_type": "markdown",
   "id": "13",
   "metadata": {},
   "source": [
    "#### Figure 1.6.7"
   ]
  },
  {
   "cell_type": "markdown",
   "id": "14",
   "metadata": {},
   "source": [
    "This screenshot shows the same Find and Replace dialogue. Now the text box\n",
    "below the buttons has the replacement text, which is `size`. The 6 matches now\n",
    "show the original text `list_length` with pink background, immediately followed\n",
    "by the replacement text `size` in green background."
   ]
  },
  {
   "cell_type": "markdown",
   "id": "15",
   "metadata": {},
   "source": [
    "#### Figure 1.6.8"
   ]
  },
  {
   "cell_type": "markdown",
   "id": "16",
   "metadata": {},
   "source": [
    "This screenshot shows a code cell with 4 lines. Lines 1 and 4 are code;\n",
    "lines 2 and 3 are comments. Part of line 2 is selected.\n",
    "The selection continues into part of line 3.\n",
    "The selected text has a purplish background."
   ]
  },
  {
   "cell_type": "markdown",
   "id": "17",
   "metadata": {},
   "source": [
    "⟵ [Previous section](33-introduction.ipynb) | [Up](33-introduction.ipynb) | [Next section](Figures_04.ipynb) ⟶"
   ]
  }
 ],
 "metadata": {
  "kernelspec": {
   "display_name": "Python 3",
   "language": "python",
   "name": "python3"
  },
  "language_info": {
   "codemirror_mode": {
    "name": "ipython",
    "version": 3
   },
   "file_extension": ".py",
   "mimetype": "text/x-python",
   "name": "python",
   "nbconvert_exporter": "python",
   "pygments_lexer": "ipython3",
   "version": "3.11.9"
  }
 },
 "nbformat": 4,
 "nbformat_minor": 5
}
