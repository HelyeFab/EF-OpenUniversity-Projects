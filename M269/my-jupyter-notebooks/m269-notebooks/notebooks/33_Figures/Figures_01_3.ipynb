{
 "cells": [
  {
   "cell_type": "markdown",
   "id": "0",
   "metadata": {},
   "source": [
    "### 31.1.1 Software"
   ]
  },
  {
   "cell_type": "markdown",
   "id": "1",
   "metadata": {},
   "source": [
    "#### Figure 1.3.1"
   ]
  },
  {
   "cell_type": "markdown",
   "id": "2",
   "metadata": {},
   "source": [
    "This screenshot shows Jupyter's notebook dashboard.\n",
    "The top right-hand corner has a button labelled 'Logout'.\n",
    "Below are two other buttons, labelled\n",
    "'Upload' and 'New'.\n",
    "The bottom half of the screenshot is a list of files and folders,\n",
    "the dates they were modified and their size (if they are files).\n",
    "Currently the list is empty."
   ]
  },
  {
   "cell_type": "markdown",
   "id": "3",
   "metadata": {},
   "source": [
    "#### Figure 1.3.2"
   ]
  },
  {
   "cell_type": "markdown",
   "id": "4",
   "metadata": {},
   "source": [
    "This screenshot shows the same dashboard, but now there's a file named\n",
    "'book-r1.zip'.\n",
    "The file name is within a text box. Next to it there are two buttons,\n",
    "labelled 'Upload' and 'Cancel'. The Upload button has a blue background."
   ]
  },
  {
   "cell_type": "markdown",
   "id": "5",
   "metadata": {},
   "source": [
    "#### Figure 1.3.3"
   ]
  },
  {
   "cell_type": "markdown",
   "id": "6",
   "metadata": {},
   "source": [
    "This screenshot shows the notebook dashboard.\n",
    "The checkbox to the left of file `book-r1.zip` is ticked.\n",
    "Above the file and folder list there are buttons labelled\n",
    "'Duplicate', 'Rename', 'Move', 'Download', 'View' and 'Edit'.\n",
    "There is also a button with a red background containing a trash can icon."
   ]
  },
  {
   "cell_type": "markdown",
   "id": "7",
   "metadata": {},
   "source": [
    "#### Figure 1.3.4"
   ]
  },
  {
   "cell_type": "markdown",
   "id": "8",
   "metadata": {},
   "source": [
    "This screenshot of Jupyter's dashboard\n",
    "now shows the folder with the M269 book. It has three subfolders named\n",
    "'html', 'notebooks' and 'python'."
   ]
  },
  {
   "cell_type": "markdown",
   "id": "9",
   "metadata": {},
   "source": [
    "#### Figure 1.3.5"
   ]
  },
  {
   "cell_type": "markdown",
   "id": "10",
   "metadata": {},
   "source": [
    "This screenshot shows the top-level M269 notebook, with the cover image,\n",
    "a copyright notice and links to several chapters."
   ]
  },
  {
   "cell_type": "markdown",
   "id": "11",
   "metadata": {},
   "source": [
    "#### Figure 1.3.6"
   ]
  },
  {
   "cell_type": "markdown",
   "id": "12",
   "metadata": {},
   "source": [
    "This screenshot shows the first notebook of Chapter&nbsp;1.\n",
    "It has a title, Introduction, a few paragraphs of text, and\n",
    "seven links to the corresponding sections of Chapter&nbsp;1.\n",
    "At the bottom of the notebook there are two links,\n",
    "named 'Up' and 'Next chapter'."
   ]
  },
  {
   "cell_type": "markdown",
   "id": "13",
   "metadata": {},
   "source": [
    "#### Figure 1.3.7"
   ]
  },
  {
   "cell_type": "markdown",
   "id": "14",
   "metadata": {},
   "source": [
    "This screenshot shows the start of the Section&nbsp;1.4 notebook."
   ]
  },
  {
   "cell_type": "markdown",
   "id": "15",
   "metadata": {},
   "source": [
    "⟵ [Previous section](33-introduction.ipynb) | [Up](33-introduction.ipynb) | [Next section](Figures_04.ipynb) ⟶"
   ]
  }
 ],
 "metadata": {
  "kernelspec": {
   "display_name": "Python 3",
   "language": "python",
   "name": "python3"
  },
  "language_info": {
   "codemirror_mode": {
    "name": "ipython",
    "version": 3
   },
   "file_extension": ".py",
   "mimetype": "text/x-python",
   "name": "python",
   "nbconvert_exporter": "python",
   "pygments_lexer": "ipython3",
   "version": "3.11.9"
  }
 },
 "nbformat": 4,
 "nbformat_minor": 5
}
