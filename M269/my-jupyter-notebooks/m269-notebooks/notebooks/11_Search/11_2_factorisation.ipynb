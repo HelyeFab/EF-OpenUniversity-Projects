{
 "cells": [
  {
   "cell_type": "markdown",
   "id": "0",
   "metadata": {},
   "source": [
    "## 11.2 Factorisation"
   ]
  },
  {
   "cell_type": "markdown",
   "id": "1",
   "metadata": {},
   "source": [
    "This section illustrates further exhaustive search techniques with\n",
    "a famous and important problem in number theory and cryptography:\n",
    "given a positive integer *n*, compute all its positive integer\n",
    "divisors (also called factors).\n",
    "For example, the positive integer factors of 5 are 1 and 5, and\n",
    "those of 10 are 1, 2, 5 and 10.\n",
    "\n",
    "I start by writing the problem definition and some tests in Python.\n",
    "To ease testing, I produce the factors in no particular order, as a set.\n",
    "\n",
    "**Function**: factorisation\\\n",
    "**Inputs**: *n*, an integer\\\n",
    "**Preconditions**: *n* > 0\\\n",
    "**Output**: *factors*, a set\\\n",
    "**Postconditions**: the members of *factors* are all the\n",
    "positive integer divisors of *n*"
   ]
  },
  {
   "cell_type": "code",
   "execution_count": 1,
   "id": "2",
   "metadata": {},
   "outputs": [],
   "source": [
    "factorisation_tests = [\n",
    "    # case,         n,  factors\n",
    "    ('smallest n',  1,  {1}),\n",
    "    ('2 factors',   2,  {1, 2}),\n",
    "    ('3 factors',   25, {1, 5, 25}),\n",
    "    ('4 factors',   10, {1, 2, 5, 10}),\n",
    "    ('5+ factors',  40, {1, 2, 4, 10, 20, 40})\n",
    "]"
   ]
  },
  {
   "cell_type": "markdown",
   "id": "3",
   "metadata": {},
   "source": [
    "To apply brute-force search I must state the problem as\n",
    "'find those candidates that satisfy these criteria'. For this problem\n",
    "we must find those positive integers that divide *n* without remainder."
   ]
  },
  {
   "cell_type": "markdown",
   "id": "4",
   "metadata": {},
   "source": [
    "<div class=\"alert alert-warning\">\n",
    "<strong>Note:</strong> To apply exhaustive search, rephrase the problem at hand\n",
    "as a search problem.\n",
    "</div>"
   ]
  },
  {
   "cell_type": "markdown",
   "id": "5",
   "metadata": {},
   "source": [
    "### 11.2.1 Make candidates explicit"
   ]
  },
  {
   "cell_type": "markdown",
   "id": "6",
   "metadata": {},
   "source": [
    "To obtain a brute-force search algorithm we must answer these questions:\n",
    "\n",
    "- What are the candidates?\n",
    "- How are they generated, one by one?\n",
    "- How is each candidate tested?\n",
    "\n",
    "The second question is very easy to answer if we have a collection of\n",
    "candidates to iterate over but the input is a single integer.\n",
    "We must first create a collection of candidates to apply linear search.\n",
    "\n",
    "By rephrasing factorisation as a search problem, the candidates became\n",
    "explicit: the positive integers. Unfortunately, there are\n",
    "infinitely many of them, and the algorithm would never stop iterating.\n",
    "For brute-force search to work, two conditions must be met:\n",
    "the collection of candidates is finite and includes all solutions.\n",
    "Can you think of a finite range of positive integers that\n",
    "includes the factors of *n*?\n",
    "\n",
    "___\n",
    "\n",
    "The smallest positive integer is 1 and no number higher than *n*\n",
    "divides *n*, so the integers from 1 to *n* include all factors of *n*."
   ]
  },
  {
   "cell_type": "markdown",
   "id": "7",
   "metadata": {},
   "source": [
    "<div class=\"alert alert-warning\">\n",
    "<strong>Note:</strong> If the solutions are integers, determine the smallest and largest solutions to obtain a finite range of candidates.\n",
    "</div>"
   ]
  },
  {
   "cell_type": "markdown",
   "id": "8",
   "metadata": {},
   "source": [
    "Having a finite collection of candidates (1 to *n*), we turn to\n",
    "the other two questions of how to generate and test each one.\n",
    "Generating integers within a range is trivial with a for-loop.\n",
    "Checking if a candidate is a solution, i.e. a divisor of *n*,\n",
    "is also trivial with the modulo operation.\n",
    "\n",
    "1. let *factors* be the empty set\n",
    "2. for each *candidate* from 1 to *n*:\n",
    "    1. if *n* mod *candidate* = 0:\n",
    "        1. add *candidate* to *factors*\n",
    "\n",
    "What's the complexity of this algorithm?\n",
    "\n",
    "___\n",
    "\n",
    "The algorithm is a linear search over the integers from 1 to *n* and\n",
    "for each one executes two or three constant-time operations\n",
    "(just step&nbsp;2.1 or also step&nbsp;2.1.1).\n",
    "The best- and worst-case complexities are thus linear in *n*: Θ(*n*).\n",
    "\n",
    "The code is a direct translation of the algorithm to Python."
   ]
  },
  {
   "cell_type": "code",
   "execution_count": 2,
   "id": "9",
   "metadata": {},
   "outputs": [
    {
     "name": "stdout",
     "output_type": "stream",
     "text": [
      "Testing factorisation...\n",
      "5+ factors FAILED: {1, 2, 4, 5, 8, 40, 10, 20} instead of {1, 2, 4, 20, 40, 10}\n",
      "Tests finished: 4 passed, 1 failed.\n"
     ]
    }
   ],
   "source": [
    "from algoesup import test\n",
    "\n",
    "def factorisation(n: int) -> set:\n",
    "    \"\"\"Return all positive integer divisors of n.\n",
    "\n",
    "    Preconditions: n > 0\n",
    "    \"\"\"\n",
    "    factors = set()\n",
    "    for candidate in range(1, n+1):\n",
    "        if n % candidate == 0:\n",
    "            factors.add(candidate)\n",
    "    return factors\n",
    "\n",
    "test(factorisation, factorisation_tests)"
   ]
  },
  {
   "cell_type": "markdown",
   "id": "10",
   "metadata": {},
   "source": [
    "The last test fails. It's easy to see why, because\n",
    "the test function prints the actual and expected outputs:\n",
    "I forgot two factors of 40.\n",
    "I must replace the expected output of the last test."
   ]
  },
  {
   "cell_type": "code",
   "execution_count": 3,
   "id": "11",
   "metadata": {},
   "outputs": [
    {
     "name": "stdout",
     "output_type": "stream",
     "text": [
      "Testing factorisation...\n",
      "Tests finished: 5 passed, 0 failed.\n"
     ]
    }
   ],
   "source": [
    "factorisation_tests[-1] = ('5+ factors',  40, {1, 2, 4, 5, 8, 10, 20, 40})\n",
    "test(factorisation, factorisation_tests)"
   ]
  },
  {
   "cell_type": "markdown",
   "id": "12",
   "metadata": {},
   "source": [
    "As explained [previously](../02_Sequence/02_5_maths_functions.ipynb#2.5.2-Algorithms),\n",
    "an algorithm is correct if it produces an output that satisfies\n",
    "the postconditions for each input that satisfies the preconditions.\n",
    "To properly check the implementation of an algorithm,\n",
    "every test must associate a valid input to a valid output;\n",
    "otherwise the test itself is incorrect.\n",
    "Here, the test is incorrect because 40&nbsp;satisfies the preconditions but\n",
    "{1, 2, 4, 10, 20, 40} doesn't satisfy the postconditions: the set doesn't\n",
    "contain all positive integer divisors of 40, it's missing two of them."
   ]
  },
  {
   "cell_type": "markdown",
   "id": "13",
   "metadata": {},
   "source": [
    "<div class=\"alert alert-warning\">\n",
    "<strong>Note:</strong> If the code fails a test, maybe the code is correct and the test isn't.\n",
    "</div>"
   ]
  },
  {
   "cell_type": "markdown",
   "id": "14",
   "metadata": {},
   "source": [
    "### 11.2.2 Compute solutions"
   ]
  },
  {
   "cell_type": "markdown",
   "id": "15",
   "metadata": {},
   "source": [
    "Sometimes, once you find a solution, you can directly compute other\n",
    "solutions from it and remove them from the candidates.\n",
    "This reduces the remaining number of candidates to generate and test.\n",
    "For this problem, if we have a factor *f* of *n*,\n",
    "then _n/f_ is the 'symmetric' factor, e.g. if 2 divides 10 then\n",
    "10 / 2 = 5 also divides 10.\n",
    "\n",
    "The algorithm must start with an explicit collection of candidates\n",
    "so that the computed solutions can be removed from it.\n",
    "\n",
    "1. let *factors* be the empty set\n",
    "2. let *candidates* be {1, ..., *n*}\n",
    "3. while *candidates* isn't empty:\n",
    "   1. remove some *candidate* from *candidates*\n",
    "   2. if *n* mod *candidate* = 0:\n",
    "      1. add *candidate* to *factors*\n",
    "      2. add *n* / *candidate* to *factors*\n",
    "      3. remove *n* / *candidate* from *candidates*\n",
    "\n",
    "This algorithm is a linear search because\n",
    "it iterates over a given collection, but contrary to a for-loop,\n",
    "it goes through the candidates in no particular order.\n",
    "I'll show you shortly how to implement step&nbsp;3.1 in Python.\n",
    "\n",
    "What are the best- and worst-case complexities of this algorithm?\n",
    "Assume step&nbsp;3.1 takes constant time.\n",
    "\n",
    "___\n",
    "\n",
    "All operations within the while-loop take constant time.\n",
    "The number of iterations is either *n*&nbsp;/&nbsp;2 in the best case\n",
    "(each iteration removes two factors) or *n* in the worst case\n",
    "(each iteration removes one factor).\n",
    "The algorithm is thus linear in *n* in the best and worst cases.\n",
    "\n",
    "Let's move on to the code.\n",
    "Steps 3.2.2 and 3.2.3 of the algorithm divide integers to obtain\n",
    "the integer factors. In Python, the division operator `/` always produces\n",
    "a floating-point number, so we must use `//` (integer division) instead.\n",
    "\n",
    "Step&nbsp;3.1 is implemented with Python's `set` method `pop()`, which\n",
    "removes and returns an arbitrary set member."
   ]
  },
  {
   "cell_type": "code",
   "execution_count": 4,
   "id": "16",
   "metadata": {},
   "outputs": [
    {
     "name": "stdout",
     "output_type": "stream",
     "text": [
      "Testing symmetric_factorisation...\n",
      "Tests finished: 5 passed, 0 failed.\n"
     ]
    }
   ],
   "source": [
    "def symmetric_factorisation(n: int) -> set:\n",
    "    \"\"\"Return all positive integer divisors of n.\n",
    "\n",
    "    Preconditions: n > 0\n",
    "    \"\"\"\n",
    "    factors = set()\n",
    "    candidates = set(range(1, n+1))\n",
    "    while len(candidates) > 0:\n",
    "        candidate = candidates.pop()\n",
    "        if n % candidate == 0:\n",
    "            factors.add(candidate)\n",
    "            factors.add(n // candidate)\n",
    "            candidates.discard(n // candidate)\n",
    "    return factors\n",
    "\n",
    "test(symmetric_factorisation, factorisation_tests)"
   ]
  },
  {
   "cell_type": "markdown",
   "id": "17",
   "metadata": {},
   "source": [
    "### 11.2.3 Sort candidates"
   ]
  },
  {
   "cell_type": "markdown",
   "id": "18",
   "metadata": {},
   "source": [
    "In [Section&nbsp;11.1.3](./11_1_linear.ipynb#Sorted-candidates)\n",
    "you saw that sorting the products in store\n",
    "allowed the linear search to stop early.\n",
    "My first factorisation approach generates the factors in ascending\n",
    "order, while the second computes some factors directly.\n",
    "Let's try to combine both approaches and see if we can stop early\n",
    "due to the sorted order of the candidates.\n",
    "\n",
    "The combined algorithm tests candidates *f* in ascending order\n",
    "(1, 2, 3, ...) and, if they're a factor, adds *n* / *f* to *factors*.\n",
    "As *f* increases, *n* / *f* decreases (*n*/1, *n*/2, *n*/3, ...),\n",
    "so at some point *f* > *n* / *f*. If the algorithm continues testing and\n",
    "increasing *f* from that point onwards, then it will only find the\n",
    "same factors that were already computed.\n",
    "When *f* > *n* / *f* we have *f*² > *n*.\n",
    "At that point we can stop generating and testing candidates.\n",
    "\n",
    "To sum up, by generating candidates in ascending order and by\n",
    "computing the symmetric factors, we can stop much earlier:\n",
    "when the square of the candidate is *n*.\n",
    "\n",
    "1. let *factors* be the empty set\n",
    "2. let *candidate* be 1\n",
    "3. while *candidate* × *candidate* ≤ *n*:\n",
    "   1. if *n* mod *candidate* = 0:\n",
    "      1. add *candidate* to *factors*\n",
    "      2. add *n* / *candidate* to *factors*\n",
    "   2. increment *candidate*"
   ]
  },
  {
   "cell_type": "code",
   "execution_count": 5,
   "id": "19",
   "metadata": {},
   "outputs": [
    {
     "name": "stdout",
     "output_type": "stream",
     "text": [
      "Testing root_factorisation...\n",
      "Tests finished: 5 passed, 0 failed.\n"
     ]
    }
   ],
   "source": [
    "def root_factorisation(n: int) -> set:\n",
    "    \"\"\"Return all positive integer divisors of n.\n",
    "\n",
    "    Preconditions: n > 0\n",
    "    \"\"\"\n",
    "    factors = set()\n",
    "    candidate = 1\n",
    "    while candidate * candidate <= n:\n",
    "        if n % candidate == 0:\n",
    "            factors.add(candidate)\n",
    "            factors.add(n // candidate)\n",
    "        candidate = candidate + 1\n",
    "    return factors\n",
    "\n",
    "test(root_factorisation, factorisation_tests)"
   ]
  },
  {
   "cell_type": "markdown",
   "id": "20",
   "metadata": {},
   "source": [
    "The algorithm does $\\sqrt{n}$ iterations and each takes constant time, so\n",
    "the complexity is Θ($\\sqrt{n}$).\n",
    "This is a vast improvement. Imagine *n* is one million.\n",
    "The original algorithm does one million iterations but\n",
    "this one only executes a thousand!\n",
    "\n",
    "The new algorithm isn't just faster: it copes much better with a growing input.\n",
    "The larger the input, the larger the run-time reduction,\n",
    "compared to the full linear search from 1 to *n*.\n",
    "A picture shows it better.\n",
    "\n",
    "I am going to use another function of the `algoesup` module.\n",
    "It measures the run-times of one or more functions that take an integer as input,\n",
    "executing them for *n* = 1, 2, 4, ..., 1024."
   ]
  },
  {
   "cell_type": "code",
   "execution_count": 6,
   "id": "21",
   "metadata": {},
   "outputs": [
    {
     "name": "stdout",
     "output_type": "stream",
     "text": [
      "Inputs generated by int_value\n",
      "\n",
      "Input value   factorisation symmetric_facto root_factorisat \n",
      "          1           181.8           321.3           160.8 ns\n",
      "          2           209.4           322.4           157.3 ns\n",
      "          4           261.0           523.4           266.7 ns\n",
      "          8           346.9           688.0           242.5 ns\n",
      "         16           569.0          1201.4           392.6 ns\n",
      "         32           900.4          2021.5           392.4 ns\n",
      "         64          1522.8          3767.0           559.3 ns\n",
      "        128          2732.6          7082.0           646.2 ns\n",
      "        256          5102.3         13515.3           909.3 ns\n",
      "        512         11064.8         29503.2          1111.0 ns\n",
      "       1024         24099.2         62162.6          1539.6 ns"
     ]
    },
    {
     "data": {
      "image/png": "[encoded data removed]",
      "text/plain": [
       "<Figure size 640x480 with 1 Axes>"
      ]
     },
     "metadata": {},
     "output_type": "display_data"
    }
   ],
   "source": [
    "from algoesup import time_functions_int\n",
    "\n",
    "time_functions_int([factorisation, symmetric_factorisation, root_factorisation])"
   ]
  },
  {
   "cell_type": "markdown",
   "id": "22",
   "metadata": {},
   "source": [
    "The basic linear search from 1 to *n* (Section&nbsp;11.2.1) and\n",
    "the linear search that computes solution *n* / *f* (Section&nbsp;11.2.2)\n",
    "have linear complexity (the run-times form straight upward lines), but\n",
    "the latter takes much longer, even though it makes fewer iterations, because\n",
    "it uses an additional set with the candidates yet to test and so\n",
    "the operations within each iteration take much longer to execute."
   ]
  },
  {
   "cell_type": "markdown",
   "id": "23",
   "metadata": {},
   "source": [
    "<div class=\"alert alert-warning\">\n",
    "<strong>Note:</strong> Algorithms with the same complexity may have very different run-times.\n",
    "</div>"
   ]
  },
  {
   "cell_type": "markdown",
   "id": "24",
   "metadata": {},
   "source": [
    "The linear search up to $\\sqrt{n}$ (Section&nbsp;11.2.3) seems to have\n",
    "constant complexity (a horizontal line) because it runs much faster\n",
    "than the other two and so the time growth is too small to see,\n",
    "but the table above the line chart shows that the run-times are not constant."
   ]
  },
  {
   "cell_type": "markdown",
   "id": "25",
   "metadata": {},
   "source": [
    "### 11.2.4 Prime numbers"
   ]
  },
  {
   "cell_type": "markdown",
   "id": "26",
   "metadata": {},
   "source": [
    "To finish this section, here's a similar problem for practice.\n",
    "\n",
    "A positive integer *n* is prime if and only if it has exactly two\n",
    "different positive integer factors, e.g. 1 and 4 aren't prime but 2 is.\n",
    "Given a positive integer *n*, decide whether it's prime."
   ]
  },
  {
   "cell_type": "markdown",
   "id": "27",
   "metadata": {},
   "source": [
    "#### Exercise 11.2.1"
   ]
  },
  {
   "cell_type": "markdown",
   "id": "28",
   "metadata": {},
   "source": [
    "Is `len(factorisation(n)) == 2` an efficient way of solving the problem?"
   ]
  },
  {
   "cell_type": "markdown",
   "id": "29",
   "metadata": {},
   "source": [
    "_Write your answer here._"
   ]
  },
  {
   "cell_type": "markdown",
   "id": "30",
   "metadata": {},
   "source": [
    "[Answer](../32_Answers/Answers_11_2_01.ipynb)"
   ]
  },
  {
   "cell_type": "markdown",
   "id": "31",
   "metadata": {},
   "source": [
    "#### Exercise 11.2.2"
   ]
  },
  {
   "cell_type": "markdown",
   "id": "32",
   "metadata": {},
   "source": [
    "[Outline](../06_Implementing/06_4_bounded.ipynb#6.4.1-Outlining-algorithms)\n",
    "a more efficient algorithm to decide if *n* is prime."
   ]
  },
  {
   "cell_type": "markdown",
   "id": "33",
   "metadata": {},
   "source": [
    "_Write your answer here._"
   ]
  },
  {
   "cell_type": "markdown",
   "id": "34",
   "metadata": {},
   "source": [
    "[Hint](../31_Hints/Hints_11_2_02.ipynb)\n",
    "[Answer](../32_Answers/Answers_11_2_02.ipynb)"
   ]
  },
  {
   "cell_type": "markdown",
   "id": "35",
   "metadata": {},
   "source": [
    "#### Exercise 11.2.3 (optional)"
   ]
  },
  {
   "cell_type": "markdown",
   "id": "36",
   "metadata": {},
   "source": [
    "Implement your algorithm. Write a docstring and add tests."
   ]
  },
  {
   "cell_type": "code",
   "execution_count": 7,
   "id": "37",
   "metadata": {},
   "outputs": [],
   "source": [
    "import math\n",
    "from algoesup import test\n",
    "\n",
    "def is_prime(n: int) -> bool:\n",
    "    pass\n",
    "\n",
    "prime_tests = [\n",
    "    # case,         n,      is_prime\n",
    "    ('smallest n',  1,      False),\n",
    "    ('even prime',  2,      True),\n",
    "    ('n = 4',       4,      False)\n",
    "]\n",
    "\n",
    "test(is_prime, prime_tests)"
   ]
  },
  {
   "cell_type": "markdown",
   "id": "38",
   "metadata": {},
   "source": [
    "⟵ [Previous section](11_1_linear.ipynb) | [Up](11-introduction.ipynb) | [Next section](11_3_constraints.ipynb) ⟶"
   ]
  }
 ],
 "metadata": {
  "kernelspec": {
   "display_name": "Python 3",
   "language": "python",
   "name": "python3"
  },
  "language_info": {
   "codemirror_mode": {
    "name": "ipython",
    "version": 3
   },
   "file_extension": ".py",
   "mimetype": "text/x-python",
   "name": "python",
   "nbconvert_exporter": "python",
   "pygments_lexer": "ipython3",
   "version": "3.11.9"
  }
 },
 "nbformat": 4,
 "nbformat_minor": 5
}
