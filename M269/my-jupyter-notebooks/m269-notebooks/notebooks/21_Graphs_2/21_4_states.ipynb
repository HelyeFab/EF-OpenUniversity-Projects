{
 "cells": [
  {
   "cell_type": "markdown",
   "id": "0",
   "metadata": {},
   "source": [
    "## 21.4 State graphs"
   ]
  },
  {
   "cell_type": "markdown",
   "id": "1",
   "metadata": {},
   "source": [
    "As I mentioned in [Section&nbsp;17.1](../17_Graphs_1/17_1_modelling.ipynb#17.1-Modelling-with-graphs),\n",
    "directed graphs can represent states and transitions between states.\n",
    "The example I gave was the states of the board during a game of\n",
    "Noughts and Crosses (also known as Tic-tac-toe).\n",
    "The transitions between states are the player moves.\n",
    "\n",
    "This section shows an example of a problem that can be easily solved if\n",
    "we model it with a state transition graph."
   ]
  },
  {
   "cell_type": "markdown",
   "id": "2",
   "metadata": {},
   "source": [
    "### 21.4.1 Problem"
   ]
  },
  {
   "cell_type": "markdown",
   "id": "3",
   "metadata": {},
   "source": [
    "The problem to solve is similar to the one about a\n",
    "[knight moving on a chessboard](../19_Practice-2/19_5_knight.ipynb#19.5-A-knight-goes-places), but this time\n",
    "using a rook – a chess piece that moves only horizontally or vertically.\n",
    "We're given a rectangular board of squares, a start square and an end square.\n",
    "We want to find the fewest moves for the rook to go\n",
    "from the start to the end square, with the proviso that moves have\n",
    "to successively be 1, 2, 3, 1, 2, 3, 1, ... squares long\n",
    "until the end square is reached.\n",
    "\n",
    "This means that the first move goes to an adjacent square,\n",
    "the second move jumps over one square, the third move jumps over two,\n",
    "the fourth move goes again to an adjacent square, etc.\n",
    "If there's a path (a sequence of moves) from the start to the end that\n",
    "stays within the board,\n",
    "then output the length of the path (the number of moves), otherwise output –1.\n",
    "\n",
    "The next figure shows a 4×4 board, with a rook symbol on the start square and\n",
    "an E marking the end square. For this input, the output should be four.\n",
    "A path of length four goes first one square right, then two squares right,\n",
    "then three squares down and finally one square left.\n",
    "\n",
    "<p id=\"fig-21.4.1\"></p>\n",
    "\n",
    "*[Figure 21.4.1](../33_Figures/Figures_21_4.ipynb#Figure-21.4.1)*\n",
    "\n",
    "![Image 21_4_jumps.png](21_4_jumps.png)\n",
    "\n",
    "A path that first goes two squares to the right and then three down is shorter,\n",
    "but it's not a valid path because it doesn't start with a move of one square.\n",
    "\n",
    "To check your understanding of the movement, find another shortest valid path\n",
    "from the start to the end, also in four moves.\n",
    "\n",
    "___\n",
    "\n",
    "Move one square down, then two squares down, then three to the right and\n",
    "finally one to the left.\n",
    "\n",
    "As usual, I first construct some test cases.\n",
    "The inputs and output are exactly as for the knight moves problem:\n",
    "three input pairs of integers indicating the size of the board and\n",
    "the coordinates of the start and end squares, and\n",
    "one output integer indicating the shortest path length."
   ]
  },
  {
   "cell_type": "code",
   "execution_count": 1,
   "id": "4",
   "metadata": {},
   "outputs": [],
   "source": [
    "rook_moves_tests = [\n",
    "    # case,             size,   start,  end,    moves\n",
    "    ('1x1 board',       (1, 1), (0, 0), (0, 0),     0),\n",
    "    ('1 row, 2 cols',   (1, 2), (0, 0), (0, 1),     1),\n",
    "    ('start = end',     (3, 3), (1, 1), (1, 1),     0),\n",
    "    ('figure example',  (4, 4), (0, 0), (3, 2),     4),\n",
    "    ('2 away',          (4, 4), (0, 0), (0, 2),    -1)\n",
    "]"
   ]
  },
  {
   "cell_type": "markdown",
   "id": "5",
   "metadata": {},
   "source": [
    "<div class=\"alert alert-info\">\n",
    "<strong>Info:</strong> This is a simplification of problem\n",
    "<a href=\"http://ctp.di.fct.unl.pt/~amd/cpn/2004miup/oficial/problems/I/I.html\">Eternal Truths</a>\n",
    "from the 2004 Portuguese University Programming Contest.\n",
    "</div>"
   ]
  },
  {
   "cell_type": "markdown",
   "id": "6",
   "metadata": {},
   "source": [
    "### 21.4.2 Graph"
   ]
  },
  {
   "cell_type": "markdown",
   "id": "7",
   "metadata": {},
   "source": [
    "The problem asks for the fewest moves. As for the knight moving on a chessboard,\n",
    "this seems to be a shortest path problem on an undirected graph,\n",
    "with one node per square.\n",
    "However, the distance of the move changes in each step, so\n",
    "the neighbours of each square are constantly changing.\n",
    "It seems we need three graphs instead of one.\n",
    "\n",
    "Here they are for the example board above.\n",
    "In the left-hand graph, the edges connect the adjacent squares.\n",
    "In the middle graph, the edges connect nodes that are two squares away.\n",
    "In the right-hand graph, the edges connect nodes that are three squares away.\n",
    "\n",
    "<p id=\"fig-21.4.2\"></p>\n",
    "\n",
    "*[Figure 21.4.2](../33_Figures/Figures_21_4.ipynb#Figure-21.4.2)*\n",
    "\n",
    "![Image 21_4_undirected.png](21_4_undirected.png)\n",
    "\n",
    "The algorithm would be a modified breadth-first search\n",
    "that is constantly switching between graphs, because\n",
    "the first, fourth, seventh, ... moves are done on the left-hand graph,\n",
    "the second, fifth, eighth, ... moves are done on the middle graph,\n",
    "the third, sixth, ninth, ... moves are done on the right-hand graph.\n",
    "This sounds too complicated and error-prone to me.\n",
    "\n",
    "We need an approach that uses a single, unchanging graph, because\n",
    "all our graph algorithms work on such graphs,\n",
    "not on graphs where the edges are changing as the algorithm progresses.\n",
    "\n",
    "The solution is to define a graph that represents the possible states of\n",
    "the rook. As breadth-first search explores the paths from the start node,\n",
    "it needs to know which square the rook is on and what move it can do next.\n",
    "The state of the rook is its current position and the distance of the next move.\n",
    "\n",
    "For each square S we need three nodes (S, 1), (S, 2) and (S, 3) that represent\n",
    "the three possible states for when the rook is in that square:\n",
    "it can next move by one, two or three squares.\n",
    "\n",
    "The graph has one edge (A, 1) ⟶ (B, 2) for each\n",
    "square B that is adjacent to square A.\n",
    "The edges state that the rook can move from any square to any adjacent square\n",
    "if the next move is by one square. Once it does the move, the rook is in a state\n",
    "where it next moves by two squares. Likewise there are edges\n",
    "\n",
    "- (A, 2) ⟶ (B, 3) for each position B that is two squares away from A\n",
    "- (A, 3) ⟶ (B, 1) for each position B that is three squares away from A.\n",
    "\n",
    "Here's the state transition graph for a 1×4 board: a single row of four squares.\n",
    "\n",
    "<p id=\"fig-21.4.3\"></p>\n",
    "\n",
    "*[Figure 21.4.3](../33_Figures/Figures_21_4.ipynb#Figure-21.4.3)*\n",
    "\n",
    "![Image 21_4_states.png](21_4_states.png)\n",
    "\n",
    "The layout of the edges shows when the rook can move left or right.\n",
    "The first move, from (A, 1) to (B, 2),\n",
    "goes to the square left or right of A, when possible.\n",
    "The second move, from (A, 2) to (B, 3),\n",
    "goes left or right by two squares when possible.\n",
    "Finally, the third move, from (A, 3) to (B, 1), is only possible\n",
    "from the left-most to the right-most square and vice versa.\n",
    "\n",
    "Having constructed this graph, we apply BFS to find the shortest path from\n",
    "(*start*, 1) to (*end*, *move*) where *move* can be any value.\n",
    "Once we reach the end square, we don't really care what the next move should be."
   ]
  },
  {
   "cell_type": "markdown",
   "id": "8",
   "metadata": {},
   "source": [
    "### 21.4.3 Code"
   ]
  },
  {
   "cell_type": "markdown",
   "id": "9",
   "metadata": {},
   "source": [
    "First, I construct the state transition graph."
   ]
  },
  {
   "cell_type": "code",
   "execution_count": 2,
   "id": "10",
   "metadata": {},
   "outputs": [],
   "source": [
    "%run -i ../m269_digraph\n",
    "\n",
    "def state_transitions(size: tuple) -> DiGraph:\n",
    "    \"\"\"Return the state transition graph for a board of the given size.\n",
    "\n",
    "    Preconditions: size is a pair of positive integers, the number of rows and columns\n",
    "    \"\"\"\n",
    "    rows = size[0]\n",
    "    columns = size[1]\n",
    "    states = DiGraph()\n",
    "    # add nodes (S, 1), (S, 2), (S, 3) for every square S\n",
    "    for row in range(rows):\n",
    "        for column in range(columns):\n",
    "            for move in (1, 2, 3):\n",
    "                states.add_node( ((row, column), move) )\n",
    "    # add edges\n",
    "    for state in states.nodes():\n",
    "        position = state[0]\n",
    "        distance = state[1]\n",
    "\n",
    "        row = position[0]\n",
    "        column = position[1]\n",
    "\n",
    "        next_distance = distance % 3 + 1    # 1 -> 2 -> 3 -> 1 -> ...\n",
    "\n",
    "        # generate the 4 possible moves: up, left, down, right\n",
    "        for move in (-distance, distance):\n",
    "            # do vertical move if it stays within board\n",
    "            if 0 <= row + move < rows:\n",
    "                next_state = ( (row+move, column), next_distance)\n",
    "                states.add_edge(state, next_state)\n",
    "            # do horizontal move if it stays within board\n",
    "            if 0 <= column + move < columns:\n",
    "                next_state = ( (row, column+move), next_distance)\n",
    "                states.add_edge(state, next_state)\n",
    "\n",
    "    return states"
   ]
  },
  {
   "cell_type": "markdown",
   "id": "11",
   "metadata": {},
   "source": [
    "Before moving on, I test this function with a small 1×3 board.\n",
    "Remember that the graph layout is semi-random, so you may have to\n",
    "run the next cell a few times to get a more understandable drawing."
   ]
  },
  {
   "cell_type": "code",
   "execution_count": 3,
   "id": "12",
   "metadata": {},
   "outputs": [
    {
     "data": {
      "image/png": "[encoded data removed]",
      "text/plain": [
       "<Figure size 640x480 with 1 Axes>"
      ]
     },
     "metadata": {},
     "output_type": "display_data"
    }
   ],
   "source": [
    "state_transitions( (1, 3) ).draw()    # single row, three columns"
   ]
  },
  {
   "cell_type": "markdown",
   "id": "13",
   "metadata": {},
   "source": [
    "You should be able to see, among other edges,\n",
    "((0, 1), 1) ⟶ ((0, 0), 2) ⟶ ((0, 2), 3):\n",
    "the rook moves one square left from (0, 1) to (0, 0) and then\n",
    "two squares right to (0, 2).\n",
    "Moving next by three squares would put the rook outside the board.\n",
    "\n",
    "Next, I copy [the code](../32_Answers/Answers_19_5_04.ipynb) for\n",
    "the knight moves problem and modify it for this problem.\n",
    "I'll explain the changes after the code."
   ]
  },
  {
   "cell_type": "code",
   "execution_count": 4,
   "id": "14",
   "metadata": {},
   "outputs": [],
   "source": [
    "%run -i ../m269_queue\n",
    "\n",
    "def rook_moves(size: tuple, start: tuple, end: tuple) -> int:\n",
    "    \"\"\"Return the least number of 1, 2, 3, 1, ... rook moves from start to end.\n",
    "\n",
    "    Return -1 if end is not reachable from start.\n",
    "\n",
    "    Preconditions:\n",
    "    - size is a pair (rows, columns) with rows > 0 and columns > 0\n",
    "    - start and end are pairs (r, c) with 0 <= r < rows and 0 <= c < columns\n",
    "    \"\"\"\n",
    "    if end == start:\n",
    "        return 0\n",
    "\n",
    "    graph = state_transitions(size) # change 1\n",
    "\n",
    "    initial_state = (start, 1)      # change 2\n",
    "    visited = {initial_state}       # change 2\n",
    "    unprocessed = Queue()\n",
    "    for neighbour in graph.out_neighbours(initial_state): # change 2\n",
    "        unprocessed.enqueue( (neighbour, 1) )    # change 4\n",
    "    while unprocessed.size() > 0:\n",
    "        to_visit = unprocessed.dequeue()\n",
    "        current = to_visit[0]\n",
    "        length = to_visit[1]\n",
    "        if current[0] == end:   # change 3\n",
    "            return length\n",
    "        elif current not in visited:\n",
    "            visited.add(current)\n",
    "            for neighbour in graph.out_neighbours(current):\n",
    "                unprocessed.enqueue( (neighbour, length+1) ) # change 4\n",
    "    return -1"
   ]
  },
  {
   "cell_type": "markdown",
   "id": "15",
   "metadata": {},
   "source": [
    "The changes were as follows, besides the trivial modifications to the header and docstring.\n",
    "\n",
    "1. Replace the code that creates the graph for the knight's moves with a call to `state_transitions`.\n",
    "2. The initial node is `(start, 1)` instead of `start` because nodes now represent states, not squares.\n",
    "3. For the same reason, extract the square from the `current` node before comparing it to the `end` square.\n",
    "4. Further simplify the BFS algorithm, which I could have already done\n",
    "   for the knight moves problem. Instead of adding to the queue edge (A, B)\n",
    "   with the length of the path to B, I just add B and the length, because\n",
    "   the shortest path is not asked for, only its length.\n",
    "\n",
    "Finally, let's run the code on the test table created at the start."
   ]
  },
  {
   "cell_type": "code",
   "execution_count": 5,
   "id": "16",
   "metadata": {},
   "outputs": [
    {
     "name": "stdout",
     "output_type": "stream",
     "text": [
      "Testing rook_moves...\n",
      "Tests finished: 5 passed, 0 failed.\n"
     ]
    }
   ],
   "source": [
    "from algoesup import test\n",
    "\n",
    "test(rook_moves, rook_moves_tests)"
   ]
  },
  {
   "cell_type": "markdown",
   "id": "17",
   "metadata": {},
   "source": [
    "The moral of this and similar problems is:"
   ]
  },
  {
   "cell_type": "markdown",
   "id": "18",
   "metadata": {},
   "source": [
    "<div class=\"alert alert-warning\">\n",
    "<strong>Note:</strong> Instead of inventing a new graph algorithm, model the problem\n",
    "with a graph that allows you to apply or adapt a standard graph algorithm.\n",
    "</div>"
   ]
  },
  {
   "cell_type": "markdown",
   "id": "19",
   "metadata": {},
   "source": [
    "Nodes can represent anything, including places, tasks, events, states.\n",
    "Edges may be weighted and directed. This gives graphs a great modelling power.\n",
    "Once we represent the input as a graph, we can often solve the problem with\n",
    "a standard graph algorithm or some small adaptation of it, as done above,\n",
    "because many graph problems fall into one of a small number of categories: find\n",
    "a shortest path, a minimum spanning tree, a topological sort or\n",
    "the graph's components."
   ]
  },
  {
   "cell_type": "markdown",
   "id": "20",
   "metadata": {},
   "source": [
    "### 21.4.4 Complexity"
   ]
  },
  {
   "cell_type": "markdown",
   "id": "21",
   "metadata": {},
   "source": [
    "The complexity of this kind of approach\n",
    "(transform the input into a graph and apply a graph algorithm) is\n",
    "Θ(*n* + *e*) to construct the graph plus\n",
    "whatever the complexity of the graph algorithm is.\n",
    "For this problem, the algorithm used is BFS so the overall complexity is\n",
    "Θ(*n* + *e*) + Θ(*n* + *e*) = Θ(*n* + *e*).\n",
    "\n",
    "However, the complexity must be stated in terms of the input,\n",
    "not of the constructed graph. We must determine the number of nodes and edges\n",
    "in terms of the input variables, and restate the complexity in those terms."
   ]
  },
  {
   "cell_type": "markdown",
   "id": "22",
   "metadata": {},
   "source": [
    "#### Exercise 21.4.1"
   ]
  },
  {
   "cell_type": "markdown",
   "id": "23",
   "metadata": {},
   "source": [
    "The main input variable is the size of the board: the number of rows *r* and\n",
    "the number of columns *c*.\n",
    "\n",
    "1. How many nodes does the state transition graph have, in terms of *r* and *c*?\n",
    "   In other words, give an expression for *n*, using *r* and *c*.\n",
    "1. How many edges does the state transition graph have at most?\n",
    "   State *e* as an expression in terms of *r* and *c*.\n",
    "1. Using the previous expressions, give the complexity Θ(*n* + *e*)\n",
    "   in terms of *r* and *c*."
   ]
  },
  {
   "cell_type": "markdown",
   "id": "24",
   "metadata": {},
   "source": [
    "_Write your answer here._"
   ]
  },
  {
   "cell_type": "markdown",
   "id": "25",
   "metadata": {},
   "source": [
    "[Hint](../31_Hints/Hints_21_4_01.ipynb)\n",
    "[Answer](../32_Answers/Answers_21_4_01.ipynb)"
   ]
  },
  {
   "cell_type": "markdown",
   "id": "26",
   "metadata": {},
   "source": [
    "⟵ [Previous section](21_3_topological.ipynb) | [Up](21-introduction.ipynb) | [Next section](21_5_practice.ipynb) ⟶"
   ]
  }
 ],
 "metadata": {
  "kernelspec": {
   "display_name": "Python 3",
   "language": "python",
   "name": "python3"
  },
  "language_info": {
   "codemirror_mode": {
    "name": "ipython",
    "version": 3
   },
   "file_extension": ".py",
   "mimetype": "text/x-python",
   "name": "python",
   "nbconvert_exporter": "python",
   "pygments_lexer": "ipython3",
   "version": "3.11.9"
  }
 },
 "nbformat": 4,
 "nbformat_minor": 5
}
