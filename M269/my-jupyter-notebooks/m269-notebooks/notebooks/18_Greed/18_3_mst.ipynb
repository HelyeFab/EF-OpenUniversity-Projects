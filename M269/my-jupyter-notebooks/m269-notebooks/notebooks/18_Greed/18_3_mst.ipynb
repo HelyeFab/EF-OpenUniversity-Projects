{
 "cells": [
  {
   "cell_type": "markdown",
   "id": "0",
   "metadata": {},
   "source": [
    "## 18.3 Minimum spanning tree"
   ]
  },
  {
   "cell_type": "markdown",
   "id": "1",
   "metadata": {},
   "source": [
    "A city council wants to control all traffic lights at junctions in real-time,\n",
    "from a control centre, so that traffic flow can be improved.\n",
    "For that, they need to lay fibre optic cable under the streets,\n",
    "from each junction to the control centre. The council wants to\n",
    "reduce costs by laying as little cable as possible. Where should cable be laid?\n",
    "\n",
    "We can model the city as an undirected weighted graph with\n",
    "one node for the centre, one node per junction and one edge per street.\n",
    "The weights represent the lengths of the streets. The problem requires\n",
    "selecting a subset of the edges, with the least total weight,\n",
    "so that all junction nodes are connected to the centre node.\n",
    "\n",
    "The next figure shows two solutions, with total weight 7, for the same graph.\n",
    "The dashed lines are the graph edges not included in the solution.\n",
    "Node C represents the control centre.\n",
    "\n",
    "<p id=\"fig-18.3.1\"></p>\n",
    "\n",
    "*[Figure 18.3.1](../33_Figures/Figures_18_3.ipynb#Figure-18.3.1)*\n",
    "\n",
    "![Image 18_3_two_msts.png](18_3_two_msts.png)\n",
    "\n",
    "A **spanning tree** of an undirected graph G is a subgraph of G that\n",
    "is a tree, i.e. is connected and acyclic, and has all nodes of G.\n",
    "The tree spans over all nodes, hence its name.\n",
    "A spanning tree is a subgraph with the fewest edges that still connect all nodes.\n",
    "If G isn't connected, then it has no spanning tree;\n",
    "otherwise it may have multiple spanning trees.\n",
    "\n",
    "If G is weighted, then a **minimum spanning tree** (MST) of G is a spanning tree\n",
    "with the lowest possible sum of weights.\n",
    "\n",
    "The problem given at the start is thus a particular formulation of the more\n",
    "general problem of computing an MST of a weighted undirected connected graph.\n",
    "Finding an MST solves the problem of connecting all nodes in the shortest,\n",
    "cheapest or fastest way, depending on what the weights represent.\n",
    "\n",
    "We'll look at two versions of the same greedy algorithm to construct an MST."
   ]
  },
  {
   "cell_type": "markdown",
   "id": "2",
   "metadata": {},
   "source": [
    "### 18.3.1 First algorithm"
   ]
  },
  {
   "cell_type": "markdown",
   "id": "3",
   "metadata": {},
   "source": [
    "The following algorithm constructs a tree incrementally, one node at a time,\n",
    "from a given *start* node. At each step, it adds an edge between a node\n",
    "that is in the tree and one that isn't. This avoids introducing cycles,\n",
    "to guarantee that the subgraph constructed is a tree.\n",
    "\n",
    "Each step adds one more node to the tree, so to obtain a spanning tree we stop\n",
    "after *n* – 1 iterations, where *n* is the number of nodes.\n",
    "To obtain a minimum spanning tree, we choose at each step the edge with\n",
    "the lowest weight. This will lead to the least total weight.\n",
    "I'll explain why later. First the algorithm.\n",
    "\n",
    "1. let *tree* be the weighted undirected graph with single node *start*\n",
    "1. repeat *n* − 1 times:\n",
    "   1. find an edge (A, B) with lowest weight(A, B) such that A is in *tree* but B isn't\n",
    "   1. add node B to *tree*\n",
    "   1. add edge (A, B, weight(A, B)) to *tree*\n",
    "\n",
    "At each step, the algorithm's greedy choice is to add the node 'nearest' to the\n",
    "tree. For the example above, starting at node C, the algorithm first adds\n",
    "the edge to node B, then to node A and finally to node D.\n",
    "It constructs the MST on the right, not the one on the left.\n",
    "\n",
    "If the algorithm starts at node D, then the first iteration may add the edge\n",
    "to B or the edge to A and thus lead to the left or right MST, respectively.\n",
    "\n",
    "This algorithm is commonly known as **Prim's algorithm**."
   ]
  },
  {
   "cell_type": "markdown",
   "id": "4",
   "metadata": {},
   "source": [
    "<div class=\"alert alert-info\">\n",
    "<strong>Info:</strong> The algorithm was first invented and published in 1930 by Vojtěch Jarník and\n",
    "independently reinvented by Robert Prim in 1957 and Edsger Dijkstra in 1959.\n",
    "</div>"
   ]
  },
  {
   "cell_type": "markdown",
   "id": "5",
   "metadata": {},
   "source": [
    "Step&nbsp;2.1 can be done with a linear search over all edges. The algorithm has\n",
    "complexity (*n* – 1) × Θ(*e*) = Θ(*n* × *e* – *e*) = Θ(*n* × *e*).\n",
    "\n",
    "Does it help to first sort the edges by ascending weight?\n",
    "\n",
    "___\n",
    "\n",
    "Sorting the edges helps to make the search faster in practice, as it can stop\n",
    "when it finds the first edge between a tree node and a non-tree node.\n",
    "However, the complexity gets worse: Θ(*e* log *e*) + Θ(*n* × *e*).\n",
    "\n",
    "If the edges are sorted, why not use binary search instead of linear search\n",
    "to reduce the complexity to\n",
    "Θ(*e* log *e*) + Θ(*n* × log *e*) = Θ((*e* + *n*) log *e*)?\n",
    "\n",
    "___\n",
    "\n",
    "We can't use binary search because we're looking for an edge between two nodes\n",
    "with specific characteristics. Let's suppose the edge in the middle is between\n",
    "two tree nodes or between two non-tree nodes. That doesn't tell us whether\n",
    "an edge between a tree node and a non-tree node is to the left or to the right.\n",
    "\n",
    "This simple version of Prim's algorithm is inefficient because it searches\n",
    "all edges over and over although at any point in time there are relatively\n",
    "few edges between nodes in the tree and nodes outside the tree.\n",
    "\n",
    "Even though the algorithm is inefficient, it's correct.\n",
    "At each step, it chooses an edge that does belong to the MST.\n",
    "To see why, consider the following diagram of the MST of some graph.\n",
    "I've omitted the weights and most of the node labels.\n",
    "\n",
    "<p id=\"fig-18.3.2\"></p>\n",
    "\n",
    "*[Figure 18.3.2](../33_Figures/Figures_18_3.ipynb#Figure-18.3.2)*\n",
    "\n",
    "![Image 18_3_prim.png](18_3_prim.png)\n",
    "\n",
    "The subtree to the left of the dashed line is the part of the MST\n",
    "the algorithm has constructed so far, beginning with the start node.\n",
    "The subtree to the right of the dashed line is the rest of the MST,\n",
    "with the yet-unvisited nodes.\n",
    "Edge M is the one edge in the MST that connects both subtrees.\n",
    "\n",
    "Why is there exactly one such edge?\n",
    "First, there must be at least one edge connecting both subtrees,\n",
    "otherwise the MST wouldn't span all nodes.\n",
    "Second, there cannot be two edges connecting both subtrees, because then the\n",
    "MST would have a cycle: we could go from the start node to the right subtree\n",
    "via one edge and return to the start via another.\n",
    "Since MSTs are trees, they don't have cycles.\n",
    "\n",
    "Among all edges the input graph has between the left subtree and\n",
    "the right subtree, edge M has the lowest weight.\n",
    "To see why, imagine the graph has an edge between nodes A and B in the diagram.\n",
    "If its weight were lower than M's, we could replace edge M with edge (A, B)\n",
    "to obtain a tree that spans all nodes and has a lower total weight.\n",
    "That's contrary to the starting assumption that the tree with edge M is\n",
    "a minimum spanning tree. So M has the lowest weight among all edges\n",
    "connecting the left and right subtrees.\n",
    "Therefore Prim's algorithm will pick it.\n",
    "\n",
    "If edge (A, B) has the same weight as edge M, then there are two MSTs:\n",
    "one has M and the other has (A, B), so it doesn't matter which one\n",
    "Prim's algorithm picks: both lead to a spanning tree with the same total weight."
   ]
  },
  {
   "cell_type": "markdown",
   "id": "6",
   "metadata": {},
   "source": [
    "#### Exercise 18.3.1"
   ]
  },
  {
   "cell_type": "markdown",
   "id": "7",
   "metadata": {},
   "source": [
    "Inspired by Prim's algorithm, Bob invents a greedy algorithm to solve the TSP.\n",
    "Beginning with the start node, it extends the tour by one node at a time,\n",
    "adding the 'nearest' node to the currently last node in the tour.\n",
    "After doing this *n* – 1 times,\n",
    "it adds the edge from the last node to the start node.\n",
    "The input graph is complete, so that edge always exists and completes the tour.\n",
    "\n",
    "Here's Prim's algorithm again. Modify it to become Bob's algorithm."
   ]
  },
  {
   "cell_type": "markdown",
   "id": "8",
   "metadata": {},
   "source": [
    "1. let *tree* be the weighted undirected graph with single node *start*\n",
    "1. repeat *n* − 1 times:\n",
    "   1. find an edge (A, B) with lowest weight(A, B) such that A is in *tree* but B isn't\n",
    "   1. add node B to *tree*\n",
    "   1. add edge (A, B, weight(A, B)) to *tree*"
   ]
  },
  {
   "cell_type": "markdown",
   "id": "9",
   "metadata": {},
   "source": [
    "[Hint](../31_Hints/Hints_18_3_01.ipynb)\n",
    "[Answer](../32_Answers/Answers_18_3_01.ipynb)"
   ]
  },
  {
   "cell_type": "markdown",
   "id": "10",
   "metadata": {},
   "source": [
    "#### Exercise 18.3.2"
   ]
  },
  {
   "cell_type": "markdown",
   "id": "11",
   "metadata": {},
   "source": [
    "As Bob thinks of some tests for his algorithm, he realises\n",
    "it doesn't solve the TSP. Show a counter-example."
   ]
  },
  {
   "cell_type": "markdown",
   "id": "12",
   "metadata": {},
   "source": [
    "_Write your answer here._"
   ]
  },
  {
   "cell_type": "markdown",
   "id": "13",
   "metadata": {},
   "source": [
    "[Hint](../31_Hints/Hints_18_3_02.ipynb)\n",
    "[Answer](../32_Answers/Answers_18_3_02.ipynb)\n",
    "\n",
    "Bob's greedy algorithm is an example of a\n",
    "[heuristic algorithm](../11_Search/11_7_summary.ipynb#11.7.1-Problems):\n",
    "it doesn't compute the optimal solution, only an approximate one,\n",
    "but it's much faster than the correct brute-force search algorithm.\n",
    "The greedy algorithm has the same complexity as Prim's algorithm, Θ(*n*×*e*),\n",
    "whereas searching all tours, i.e. all node permutations, for the shortest one\n",
    "takes Θ(*n*!)."
   ]
  },
  {
   "cell_type": "markdown",
   "id": "14",
   "metadata": {},
   "source": [
    "### 18.3.2 Second algorithm"
   ]
  },
  {
   "cell_type": "markdown",
   "id": "15",
   "metadata": {},
   "source": [
    "Prim's algorithm constructs a tree one edge at a time,\n",
    "to a node not in the tree. We already have a similar algorithm:\n",
    "[graph traversal](../17_Graphs_1/17_7_traversal.ipynb#17.7.4-Second-algorithm).\n",
    "It also produces a tree, visiting one new node at a time.\n",
    "Each iteration processes the next edge. If it connects two visited nodes,\n",
    "it's discarded; otherwise the node it leads to is visited and\n",
    "its out-going edges are added to those yet to be processed.\n",
    "\n",
    "We get different traversals depending on the unprocessed edges collection.\n",
    "If it's a set, we get a random traversal. If it's a queue, we get a\n",
    "[breadth-first search](../17_Graphs_1/17_8_bfs_dfs.ipynb#17.8-Breadth--and-depth-first-search) because\n",
    "the edges discovered first are followed before the others. It it's a stack,\n",
    "we get a depth-first search because the last discovered edge is followed next.\n",
    "\n",
    "If we instead use a [min-priority queue](../07_Ordered/07_4_priority_queue.ipynb#7.4-Priority-queues), where\n",
    "the priority is the edge weight, we get Prim's algorithm because\n",
    "the next edge followed is the one with lowest weight.\n",
    "Here is the generic traversal algorithm, with the necessary changes:\n",
    "the input and output graphs are weighted and undirected,\n",
    "and the edge weights are used as priorities. Remember that max(*pq*) represents\n",
    "the highest-priority item in priority queue *pq*.\n",
    "\n",
    "1. let *visited* be an undirected weighted graph with node *start*\n",
    "2. let *unprocessed* be an empty min-priority queue\n",
    "3. for each *node* in neighbours of *start* in *graph*:\n",
    "   1. add (*start*, *node*) with priority weight(*start*, *node*) to *unprocessed*\n",
    "4. while *unprocessed* isn't empty:\n",
    "   1. let (*previous*, *current*) be max(*unprocessed*) with priority *weight*\n",
    "   2. remove max(*unprocessed*)\n",
    "   3. if *visited* doesn't have node *current*:\n",
    "      1. add *current* to *visited*\n",
    "      2. add (*previous*, *current*, *weight*) to *visited*\n",
    "      3. for each *node* in neighbours of *current* in *graph*:\n",
    "         1. add (*current*, *node*) with priority weight(*current*, *node*) to *unprocessed*\n",
    "\n",
    "Like the previous traversal algorithms, this one visits each node once,\n",
    "so steps 1 and 4.3.1 take in total Θ(*n*) time.\n",
    "\n",
    "All edges of a just-visited node are added to the priority queue,\n",
    "so each edge (A, B) is added twice: first when visiting A, next when visiting B.\n",
    "If a priority queue is implemented with a heap, adding and removing an item\n",
    "takes logarithmic time in the length of the queue at that moment.\n",
    "The priority queue has at most 2×*e* edges (usually far fewer),\n",
    "so processing the edges takes  2 × *e* × O(log 2×*e*) = O(*e* log *e*).\n",
    "\n",
    "The overall complexity of this version of Prim's algorithm is\n",
    "Θ(*n*) + O(*e* log *e*) = O(*e* log *e*).\n",
    "A tree has *n* – 1 edges, so connected graphs have *e* ≥ *n* – 1 edges.\n",
    "Hence *e* log *e* ≥ *n* and we can ignore the slower-growing term Θ(*n*)."
   ]
  },
  {
   "cell_type": "markdown",
   "id": "16",
   "metadata": {},
   "source": [
    "#### Exercise 18.3.3"
   ]
  },
  {
   "cell_type": "markdown",
   "id": "17",
   "metadata": {},
   "source": [
    "Suggest a change to the algorithm that, while not reducing its complexity, will\n",
    "reduce the run-time for many graphs."
   ]
  },
  {
   "cell_type": "markdown",
   "id": "18",
   "metadata": {},
   "source": [
    "_Write your answer here._"
   ]
  },
  {
   "cell_type": "markdown",
   "id": "19",
   "metadata": {},
   "source": [
    "[Hint](../31_Hints/Hints_18_3_03.ipynb)\n",
    "[Answer](../32_Answers/Answers_18_3_03.ipynb)"
   ]
  },
  {
   "cell_type": "markdown",
   "id": "20",
   "metadata": {},
   "source": [
    "#### Exercise 18.3.4"
   ]
  },
  {
   "cell_type": "markdown",
   "id": "21",
   "metadata": {},
   "source": [
    "Given an undirected weighted connected graph in which all weights are the same,\n",
    "can we compute an MST of that graph without using Prim's algorithm?"
   ]
  },
  {
   "cell_type": "markdown",
   "id": "22",
   "metadata": {},
   "source": [
    "_Write your answer here._"
   ]
  },
  {
   "cell_type": "markdown",
   "id": "23",
   "metadata": {},
   "source": [
    "[Hint](../31_Hints/Hints_18_3_04.ipynb)\n",
    "[Answer](../32_Answers/Answers_18_3_04.ipynb)"
   ]
  },
  {
   "cell_type": "markdown",
   "id": "24",
   "metadata": {},
   "source": [
    "### 18.3.3 Code"
   ]
  },
  {
   "cell_type": "markdown",
   "id": "25",
   "metadata": {},
   "source": [
    "Let's implement and run the algorithm. I'll leave it as an exercise to\n",
    "implement the run-time improvements of Exercise 18.3.3."
   ]
  },
  {
   "cell_type": "code",
   "execution_count": 1,
   "id": "26",
   "metadata": {},
   "outputs": [],
   "source": [
    "%run -i ../m269_digraph\n",
    "%run -i ../m269_ungraph"
   ]
  },
  {
   "cell_type": "markdown",
   "id": "27",
   "metadata": {},
   "source": [
    "I implement the priority queue with\n",
    "[Python's heap functions](../16_Trees/16_6_heapsort.ipynb#16.6.5-Heaps-in-Python).\n",
    "Since they don't separate the priority from the item,\n",
    "I must add edges to the heap as triples (*weight*, *node1*, *node2*)\n",
    "for the heap to sort them by weight.\n",
    "If two edges have the same weight, they will be sorted by the nodes,\n",
    "so we must assume that the node objects are comparable."
   ]
  },
  {
   "cell_type": "code",
   "execution_count": 2,
   "id": "28",
   "metadata": {},
   "outputs": [],
   "source": [
    "# this code is also in m269_ungraph.py\n",
    "\n",
    "from heapq import heappush, heappop\n",
    "\n",
    "def prim(graph: WeightedUndirectedGraph, start: Hashable) -> WeightedUndirectedGraph:\n",
    "    \"\"\"Return a minimum spanning tree of graph, beginning at start.\n",
    "\n",
    "    Preconditions:\n",
    "    - graph.has_node(start)\n",
    "    - graph is connected\n",
    "    - node objects are comparable\n",
    "    \"\"\"\n",
    "    visited = WeightedUndirectedGraph()\n",
    "    visited.add_node(start)\n",
    "\n",
    "    unprocessed = []\n",
    "    for neighbour in graph.neighbours(start):\n",
    "        weight = graph.weight(start, neighbour)\n",
    "        heappush(unprocessed, (weight, start, neighbour) )\n",
    "\n",
    "    while len(unprocessed) > 0:\n",
    "        edge = heappop(unprocessed)\n",
    "        weight = edge[0]\n",
    "        previous = edge[1]\n",
    "        current = edge[2]\n",
    "        if not visited.has_node(current):\n",
    "            visited.add_node(current)\n",
    "            visited.add_edge(previous, current, weight)\n",
    "            for neighbour in graph.neighbours(current):\n",
    "                weight = graph.weight(current, neighbour)\n",
    "                heappush(unprocessed, (weight, current, neighbour) )\n",
    "    return visited"
   ]
  },
  {
   "cell_type": "markdown",
   "id": "29",
   "metadata": {},
   "source": [
    "Next I create the example graph."
   ]
  },
  {
   "cell_type": "code",
   "execution_count": 3,
   "id": "30",
   "metadata": {},
   "outputs": [],
   "source": [
    "# this code is also in m269_graphs.py\n",
    "\n",
    "# graph in Figure 18.3.1\n",
    "RHOMBUS = WeightedUndirectedGraph()\n",
    "for node in 'ABCD':\n",
    "    RHOMBUS.add_node(node)\n",
    "RHOMBUS.add_edge('A', 'B', 1)\n",
    "RHOMBUS.add_edge('A', 'D', 2)\n",
    "RHOMBUS.add_edge('B', 'C', 4)\n",
    "RHOMBUS.add_edge('B', 'D', 2)\n",
    "RHOMBUS.add_edge('C', 'D', 5)"
   ]
  },
  {
   "cell_type": "code",
   "execution_count": 4,
   "id": "31",
   "metadata": {},
   "outputs": [
    {
     "data": {
      "image/png": "[encoded data removed]",
      "text/plain": [
       "<Figure size 640x480 with 1 Axes>"
      ]
     },
     "metadata": {},
     "output_type": "display_data"
    }
   ],
   "source": [
    "RHOMBUS.draw()"
   ]
  },
  {
   "cell_type": "markdown",
   "id": "32",
   "metadata": {},
   "source": [
    "Edge (A, D) is always chosen before (B, D) because\n",
    "`(2, 'A', 'D') < (2, 'B', 'D')` when the heap compares them.\n",
    "The function always produces the same MST, of the two possible,\n",
    "no matter what start node we select."
   ]
  },
  {
   "cell_type": "code",
   "execution_count": 5,
   "id": "33",
   "metadata": {},
   "outputs": [
    {
     "data": {
      "image/png": "[encoded data removed]",
      "text/plain": [
       "<Figure size 640x480 with 1 Axes>"
      ]
     },
     "metadata": {},
     "output_type": "display_data"
    }
   ],
   "source": [
    "prim(RHOMBUS, 'D').draw()  # replace D with A, B or C"
   ]
  },
  {
   "cell_type": "markdown",
   "id": "34",
   "metadata": {},
   "source": [
    "⟵ [Previous section](18_2_weighted_graph.ipynb) | [Up](18-introduction.ipynb) | [Next section](18_4_shortest_path.ipynb) ⟶"
   ]
  }
 ],
 "metadata": {
  "kernelspec": {
   "display_name": "Python 3",
   "language": "python",
   "name": "python3"
  },
  "language_info": {
   "codemirror_mode": {
    "name": "ipython",
    "version": 3
   },
   "file_extension": ".py",
   "mimetype": "text/x-python",
   "name": "python",
   "nbconvert_exporter": "python",
   "pygments_lexer": "ipython3",
   "version": "3.11.9"
  }
 },
 "nbformat": 4,
 "nbformat_minor": 5
}
