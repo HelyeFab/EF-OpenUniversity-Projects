{
 "cells": [
  {
   "cell_type": "markdown",
   "id": "0",
   "metadata": {},
   "source": [
    "## 1.6 Code cells"
   ]
  },
  {
   "cell_type": "markdown",
   "id": "1",
   "metadata": {},
   "source": [
    "This section explains how to work with code in notebooks.\n",
    "There are some 'gotchas' you need to be aware of, so again,\n",
    "don't click on anything and don't edit or run any cell unless told to."
   ]
  },
  {
   "cell_type": "markdown",
   "id": "2",
   "metadata": {},
   "source": [
    "### 1.6.1 Executing code"
   ]
  },
  {
   "cell_type": "markdown",
   "id": "3",
   "metadata": {},
   "source": [
    "Besides text cells, notebooks include code cells, like these two:"
   ]
  },
  {
   "cell_type": "code",
   "execution_count": 1,
   "id": "4",
   "metadata": {},
   "outputs": [],
   "source": [
    "a_number = 45"
   ]
  },
  {
   "cell_type": "code",
   "execution_count": 2,
   "id": "5",
   "metadata": {},
   "outputs": [
    {
     "name": "stdout",
     "output_type": "stream",
     "text": [
      "45\n"
     ]
    }
   ],
   "source": [
    "print(a_number)"
   ]
  },
  {
   "cell_type": "markdown",
   "id": "6",
   "metadata": {},
   "source": [
    "If the cell has an output, like the second one, it's shown below the code.\n",
    "\n",
    "When you save a notebook, the outputs of the code cells are saved as plain text.\n",
    "The state of the kernel, with the values of the variables, is *not* saved.\n",
    "When you open a notebook, the kernel does *not* run the code cells.\n",
    "You see the output of the second cell because I executed all code and\n",
    "saved all notebooks before uploading them to the M269 website.\n",
    "\n",
    "To see that the output is the result of a *previous* session, do the following:\n",
    "\n",
    "1. Save this notebook, to create a checkpoint we can later revert to.\n",
    "2. Click on the second code cell to select it. This also switches to edit mode.\n",
    "   (Clicking on text cells just selects them without switching to edit mode.)\n",
    "3. Run the second cell by pressing Ctrl-Enter or Cmd-Enter.\n",
    "\n",
    "You should obtain this error: \n",
    "\n",
    "<p id=\"fig-1.6.1\"></p>\n",
    "\n",
    "*[Figure 1.6.1](../33_Figures/Figures_01_6.ipynb#Figure-1.6.1)*\n",
    "\n",
    "![Image 01_6_name_error.png](01_6_name_error.png)\n",
    "\n",
    "In *this* session the first cell wasn't run and so the kernel\n",
    "doesn't know the value of the variable and reports an error.\n",
    "\n",
    "With notebooks, you can select and run code cells in any order. That's a\n",
    "double-edged sword. On the one hand, it allows you to attempt exercises in any\n",
    "order, as it suits you. On the other hand, you will get errors if a code cell\n",
    "depends on previous ones.\n",
    "\n",
    "You may have noticed that both cells have the number 1 on their left side.\n",
    "The kernel counts how many code cells it executed since the notebook was opened.\n",
    "The top cell was the first cell executed in the previous session;\n",
    "the bottom cell was executed first in this session.\n",
    "\n",
    "To get rid of the error message, you must execute the first code cell and\n",
    "then the second one again. A quick way to do that is as follows:\n",
    "\n",
    "4. Select Cell > Run All Above.\n",
    "\n",
    "This executes all cells (including formatting text cells),\n",
    "from the start of the notebook to the cell above the current one, in order.\n",
    "Now the counters are 2 and&nbsp;3:\n",
    "\n",
    "<p id=\"fig-1.6.2\"></p>\n",
    "\n",
    "*[Figure 1.6.2](../33_Figures/Figures_01_6.ipynb#Figure-1.6.2)*\n",
    "\n",
    "![Image 01_6_counters.png](01_6_counters.png)\n",
    "\n",
    "If running all cells above the current one still leads to strange errors,\n",
    "you can try the menu option Kernel > Restart & Run All (but not now!).\n",
    "This will shut down the current kernel, start a new one,\n",
    "and run all cells in the notebook, from the first to the last. It's the same as\n",
    "closing and halting the notebook, reopening it, and running all cells,\n",
    "to start afresh.\n",
    "\n",
    "When the notebook runs cells from the start, it stops when there's an error.\n",
    "Many M269 notebooks have errors on purpose to show you what happens in those cases.\n",
    "So, if you select the option to run all cells (or only those above)\n",
    "but the counter of the current (or previous) code cell doesn't increase,\n",
    "you know there's an error in some earlier code cell."
   ]
  },
  {
   "cell_type": "markdown",
   "id": "7",
   "metadata": {},
   "source": [
    "### 1.6.2 Software check"
   ]
  },
  {
   "cell_type": "markdown",
   "id": "8",
   "metadata": {},
   "source": [
    "Now that you know how to execute code in a notebook,\n",
    "you should check that some of the required software is working.\n",
    "Look at the output of the next code cell and then run it.\n",
    "If you get an error message or you get a different output,\n",
    "let us know in the M269 technical forum."
   ]
  },
  {
   "cell_type": "code",
   "execution_count": 3,
   "id": "9",
   "metadata": {},
   "outputs": [
    {
     "data": {
      "image/png": "[encoded data removed]",
      "text/plain": [
       "<Figure size 640x480 with 1 Axes>"
      ]
     },
     "metadata": {},
     "output_type": "display_data"
    }
   ],
   "source": [
    "from networkx import Graph, draw, spring_layout\n",
    "\n",
    "triangle = Graph()\n",
    "triangle.add_edges_from([(1, 2), (2, 3), (3, 1)])\n",
    "draw(triangle, pos=spring_layout(triangle, seed=1000))"
   ]
  },
  {
   "cell_type": "markdown",
   "id": "10",
   "metadata": {},
   "source": [
    "### 1.6.3 Autocompleting"
   ]
  },
  {
   "cell_type": "markdown",
   "id": "11",
   "metadata": {},
   "source": [
    "Let's now see how to edit code.\n",
    "You can use the same keyboard shortcuts as when editing text cells.\n",
    "In addition, pressing Tab autocompletes a name. This saves\n",
    "typing and prevents silly spelling mistakes that lead to errors, e.g.\n",
    "if I first write `a_number` and later `a_numer`.\n",
    "\n",
    "Here again is the second code cell:"
   ]
  },
  {
   "cell_type": "code",
   "execution_count": 4,
   "id": "12",
   "metadata": {},
   "outputs": [
    {
     "name": "stdout",
     "output_type": "stream",
     "text": [
      "45\n"
     ]
    }
   ],
   "source": [
    "print(a_number)"
   ]
  },
  {
   "cell_type": "markdown",
   "id": "13",
   "metadata": {},
   "source": [
    "Do as follows:\n",
    "\n",
    "1. Click between the 'a' and the underscore '_'.\n",
    "   This selects the code cell, switches to edit mode and puts the cursor there.\n",
    "1. Delete the rest of the line to pretend it hasn't been written yet.\n",
    "   Try to do it with the keyboard only: first select the rest of the line,\n",
    "   then press Backspace to delete it.\n",
    "1. Press Tab. A list of suggestions starting with 'a' appears, like this one:\n",
    "\n",
    "<p id=\"fig-1.6.3\"></p>\n",
    "\n",
    "*[Figure 1.6.3](../33_Figures/Figures_01_6.ipynb#Figure-1.6.3)*\n",
    "\n",
    "![Image 01_6_many_completions.png](01_6_many_completions.png)\n",
    "\n",
    "At this point you could (but won't) press Enter to select the first suggestion,\n",
    "which is the one we want. When the right suggestion isn't the first one,\n",
    "use the up and down arrow keys to select it, and then press Enter.\n",
    "\n",
    "4. Press `_`. The list of suggestions reduces to:\n",
    "\n",
    "<p id=\"fig-1.6.4\"></p>\n",
    "\n",
    "*[Figure 1.6.4](../33_Figures/Figures_01_6.ipynb#Figure-1.6.4)*\n",
    "\n",
    "![Image 01_6_one_completion.png](01_6_one_completion.png)\n",
    "\n",
    "5. Press Enter to select the single suggestion.\n",
    "\n",
    "To sum up, the fewer characters we typed before pressing Tab, the more\n",
    "completions are suggested. As we continue typing, the list reduces."
   ]
  },
  {
   "cell_type": "markdown",
   "id": "14",
   "metadata": {},
   "source": [
    "### 1.6.4 Changing the indentation"
   ]
  },
  {
   "cell_type": "markdown",
   "id": "15",
   "metadata": {},
   "source": [
    "The Python language heavily relies on how code is indented.\n",
    "Consider this version of the list length function from\n",
    "[Section&nbsp;1.2](../01_Introduction/01_2_preparation.ipynb#1.2.1-Book), with the wrong indentation."
   ]
  },
  {
   "cell_type": "code",
   "execution_count": 5,
   "id": "16",
   "metadata": {},
   "outputs": [
    {
     "ename": "IndentationError",
     "evalue": "unexpected indent (463010059.py, line 4)",
     "output_type": "error",
     "traceback": [
      "\u001b[0;36m  Cell \u001b[0;32mIn[5], line 4\u001b[0;36m\u001b[0m\n\u001b[0;31m    for item in a_list:\u001b[0m\n\u001b[0m    ^\u001b[0m\n\u001b[0;31mIndentationError\u001b[0m\u001b[0;31m:\u001b[0m unexpected indent\n"
     ]
    }
   ],
   "source": [
    "def list_length(a_list):\n",
    "        \"\"\"Return the length of a list.\"\"\"\n",
    "length = 0\n",
    "    for item in a_list:\n",
    "length = length + 1\n",
    "        return length"
   ]
  },
  {
   "cell_type": "markdown",
   "id": "17",
   "metadata": {},
   "source": [
    "One simple way to correct the indentation is to remove and add spaces as needed\n",
    "in each line. But there's a better and faster way.\n",
    "\n",
    "1. Click anywhere on line 2 of the function. You're in edit mode.\n",
    "1. Press Ctrl-[ on Linux or Windows or Cmd-[ on macOS.\n",
    "   This dedents (moves left) the second line to its correct place.\n",
    "1. Press the down arrow to move the cursor to line 3.\n",
    "1. Press Ctrl-] or Cmd-] to indent (move right) the third line to its correct place.\n",
    "1. Indent line 5 twice and dedent line 6 once.\n",
    "1. Press Ctrl-Enter or Cmd-Enter to check the indentation is correct."
   ]
  },
  {
   "cell_type": "markdown",
   "id": "18",
   "metadata": {},
   "source": [
    "<div class=\"alert alert-info\">\n",
    "<strong>Info:</strong> Other texts may use 'outdent' or 'unindent' instead of 'dedent'.\n",
    "</div>"
   ]
  },
  {
   "cell_type": "markdown",
   "id": "19",
   "metadata": {},
   "source": [
    "The keyboard shortcuts to indent and dedent lines can also be used\n",
    "in text cells to change the level of a list."
   ]
  },
  {
   "cell_type": "markdown",
   "id": "20",
   "metadata": {},
   "source": [
    "### 1.6.5 Finding and replacing text"
   ]
  },
  {
   "cell_type": "markdown",
   "id": "21",
   "metadata": {},
   "source": [
    "The next command is useful to replace variable and function names,\n",
    "but can be used to replace any text, including in text cells.\n",
    "Consider again this function call:"
   ]
  },
  {
   "cell_type": "code",
   "execution_count": 6,
   "id": "22",
   "metadata": {},
   "outputs": [
    {
     "ename": "NameError",
     "evalue": "name 'list_length' is not defined",
     "output_type": "error",
     "traceback": [
      "\u001b[0;31m---------------------------------------------------------------------------\u001b[0m",
      "\u001b[0;31mNameError\u001b[0m                                 Traceback (most recent call last)",
      "Cell \u001b[0;32mIn[6], line 1\u001b[0m\n\u001b[0;32m----> 1\u001b[0m \u001b[43mlist_length\u001b[49m([\u001b[38;5;124m'\u001b[39m\u001b[38;5;124mon your marks\u001b[39m\u001b[38;5;124m'\u001b[39m, \u001b[38;5;124m'\u001b[39m\u001b[38;5;124mget set\u001b[39m\u001b[38;5;124m'\u001b[39m, \u001b[38;5;124m'\u001b[39m\u001b[38;5;124mgo!\u001b[39m\u001b[38;5;124m'\u001b[39m])\n",
      "\u001b[0;31mNameError\u001b[0m: name 'list_length' is not defined"
     ]
    }
   ],
   "source": [
    "list_length(['on your marks', 'get set', 'go!'])"
   ]
  },
  {
   "cell_type": "markdown",
   "id": "23",
   "metadata": {},
   "source": [
    "The function definition above had the wrong indentation,\n",
    "so the function was undefined when I ran this call, and hence the error.\n",
    "Now that you have fixed the indentation, running this code cell\n",
    "removes the error message.\n",
    "\n",
    "1. Click on the code cell with the function call.\n",
    "1. Press Ctrl-Enter or Cmd-Enter to run the code, switch to command mode, and\n",
    "   keep the cell selected.\n",
    "\n",
    "Let's suppose we want to change the function's name\n",
    "from `list_length` to `size`.\n",
    "We must change all occurrences (including in text cells) to keep everything\n",
    "consistent. Here's how to do it.\n",
    "Read the instructions until the end before carrying them out.\n",
    "\n",
    "3. With the function call cell still selected and in command mode,\n",
    "   press F (not Shift-F) to open a find and replace dialogue. \n",
    "1. Type `list_length`. This shows a match in the current cell.\n",
    "\n",
    "<p id=\"fig-1.6.5\"></p>\n",
    "\n",
    "*[Figure 1.6.5](../33_Figures/Figures_01_6.ipynb#Figure-1.6.5)*\n",
    "\n",
    "![Image 01_6_one_match.png](01_6_one_match.png)\n",
    "\n",
    "5. Click on the updown arrow. This shows the matches in all cells\n",
    "   of the notebook, including text cells.\n",
    "\n",
    "<p id=\"fig-1.6.6\"></p>\n",
    "\n",
    "*[Figure 1.6.6](../33_Figures/Figures_01_6.ipynb#Figure-1.6.6)*\n",
    "\n",
    "![Image 01_6_many_matches.png](01_6_many_matches.png)\n",
    "\n",
    "6. Type `size` in the 'Replace' box.\n",
    "\n",
    "<p id=\"fig-1.6.7\"></p>\n",
    "\n",
    "*[Figure 1.6.7](../33_Figures/Figures_01_6.ipynb#Figure-1.6.7)*\n",
    "\n",
    "![Image 01_6_replace.png](01_6_replace.png)\n",
    "\n",
    "7. As the dialogue shows, one replacement won't make sense,\n",
    "   as it results in 'from `size` to `size`'.\n",
    "   This was just an example to illustrate the find and replace command.\n",
    "   Press Esc to abort the replacement.\n",
    "\n",
    "To replace some text throughout the whole notebook, it doesn't matter which is\n",
    "the currently selected cell: any one will do, even if it hasn't the sought text.\n",
    "I only asked you to select the function call cell so that you could see\n",
    "the difference between searching a single cell and all cells.\n",
    "Sometimes you may want to replace text only in the current cell."
   ]
  },
  {
   "cell_type": "markdown",
   "id": "24",
   "metadata": {},
   "source": [
    "### 1.6.6 Commenting code out"
   ]
  },
  {
   "cell_type": "markdown",
   "id": "25",
   "metadata": {},
   "source": [
    "You can use my code as the basis to try different things out,\n",
    "to reinforce your learning.\n",
    "You can save a checkpoint, make changes to my code,\n",
    "and then revert to the checkpoint.\n",
    "This however won't keep a record of what you tried out.\n",
    "\n",
    "Another approach is to comment out my code (so that it's not executed),\n",
    "instead of modifying it.\n",
    "You can then add your code and thus keep both my and your versions.\n",
    "You can later comment out your code, uncomment mine and run all cells to get\n",
    "back to the original output of each cell, but with your code in comments.\n",
    "\n",
    "For example, in the next cell, I commented out the original assignment, and\n",
    "added a different one.\n",
    "I also added a comment to flag the start of the new code and its purpose.\n",
    "This makes it easier to find new code and to remember why it was added."
   ]
  },
  {
   "cell_type": "code",
   "execution_count": 7,
   "id": "26",
   "metadata": {},
   "outputs": [
    {
     "name": "stdout",
     "output_type": "stream",
     "text": [
      "20\n"
     ]
    }
   ],
   "source": [
    "# a_number = 45\n",
    "# my code: use an expression instead of a single value\n",
    "a_number = 4 * 5\n",
    "print(a_number)"
   ]
  },
  {
   "cell_type": "markdown",
   "id": "27",
   "metadata": {},
   "source": [
    "If you have lots of lines of code to comment or uncomment, it gets tedious\n",
    "to type or delete `#` at the start of each line. There's a quicker way:\n",
    "\n",
    "1. Click anywhere on the first line of the above code cell.\n",
    "1. Press Crtl-/ or Cmd-/. The first line is uncommented.\n",
    "1. Press the down arrow twice to move the cursor to line 3.\n",
    "1. Press Ctrl-/ or Cmd-/. The line is commented.\n",
    "\n",
    "You can (un)comment several consecutive lines in one go:\n",
    "\n",
    "5. Press Shift-up arrow to select line 3 and line 2:\n",
    "\n",
    "<p id=\"fig-1.6.8\"></p>\n",
    "\n",
    "*[Figure 1.6.8](../33_Figures/Figures_01_6.ipynb#Figure-1.6.8)*\n",
    "\n",
    "![Image 01_6_selection.png](01_6_selection.png)\n",
    "\n",
    "6. Press Ctrl-/ or Cmd-/. Both lines are uncommented.\n",
    "1. Press Ctrl-Z or Cmd-Z to undo the change,\n",
    "   because the second line can't remain uncommented.\n",
    "   Alternatively, press Ctrl-/ or Cmd-/ to comment both lines again."
   ]
  },
  {
   "cell_type": "markdown",
   "id": "28",
   "metadata": {},
   "source": [
    "### 1.6.7 Copying cells"
   ]
  },
  {
   "cell_type": "markdown",
   "id": "29",
   "metadata": {},
   "source": [
    "In M269, every algorithm will be implemented as a Python function.\n",
    "If you want to try out different algorithms for the same problem,\n",
    "simply write different functions with different names.\n",
    "Then there's no need to comment out any code.\n",
    "\n",
    "Let's suppose you'd like to try a different way of\n",
    "computing the length of a list.\n",
    "You should start by making a copy of the cell with the original function.\n",
    "Read through the following instructions before doing them."
   ]
  },
  {
   "cell_type": "markdown",
   "id": "30",
   "metadata": {},
   "source": [
    "1. Press Esc to get into command mode.\n",
    "1. Press Shift-Space one or more times to scroll up in this notebook until you\n",
    "   see the cell with function `list_length`.\n",
    "1. Do *not* click inside the code cell.\n",
    "   Instead, click on the left of it, i.e. on the counter or below it.\n",
    "   This selects the cell without getting into edit mode.\n",
    "1. Press C (not Shift-C) to copy the cell.\n",
    "1. Press Space one or more times to scroll down back to here.\n",
    "1. Select this text cell by clicking to the left of it.\n",
    "1. Press V (not Shift-V) to paste the copied code cell below this one."
   ]
  },
  {
   "cell_type": "markdown",
   "id": "31",
   "metadata": {},
   "source": [
    "You would now rename the function, e.g. to `list_length_2`,\n",
    "change the code and run it to define the new function.\n",
    "Then, to test the new function, you would copy the cell that\n",
    "calls the original function, and rename the call. But we'll stop here.\n",
    "The purpose of this activity was just to show how to copy and paste whole cells.\n",
    "\n",
    "If you're going to make radical changes to a function, it may be simpler to\n",
    "add a new code cell (as explained in Section&nbsp;1.5) and write the new function\n",
    "from scratch rather than copying and heavily editing an existing one.\n",
    "\n",
    "You can now revert to the saved checkpoint\n",
    "if you don't want to keep any of the changes.\n",
    "\n",
    "Well, you know the drill by now:\n",
    "open the next notebook and then close and halt this one.\n",
    "I promise this is the last time I write this."
   ]
  },
  {
   "cell_type": "markdown",
   "id": "32",
   "metadata": {},
   "source": [
    "⟵ [Previous section](01_5_text.ipynb) | [Up](01-introduction.ipynb) | [Next section](01_7_summary.ipynb) ⟶"
   ]
  }
 ],
 "metadata": {
  "kernelspec": {
   "display_name": "Python 3",
   "language": "python",
   "name": "python3"
  },
  "language_info": {
   "codemirror_mode": {
    "name": "ipython",
    "version": 3
   },
   "file_extension": ".py",
   "mimetype": "text/x-python",
   "name": "python",
   "nbconvert_exporter": "python",
   "pygments_lexer": "ipython3",
   "version": "3.11.9"
  }
 },
 "nbformat": 4,
 "nbformat_minor": 5
}
