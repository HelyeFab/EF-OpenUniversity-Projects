{
 "cells": [
  {
   "cell_type": "markdown",
   "id": "0",
   "metadata": {},
   "source": [
    "## 1.3 Software"
   ]
  },
  {
   "cell_type": "markdown",
   "id": "1",
   "metadata": {},
   "source": [
    "This chapter explains how to use Jupyter notebooks in a web browser.\n",
    "Jupyter officially only supports Chrome, Firefox and Safari,\n",
    "but Edge should work too."
   ]
  },
  {
   "cell_type": "markdown",
   "id": "2",
   "metadata": {},
   "source": [
    "<div class=\"alert alert-warning\">\n",
    "<strong>Note:</strong> To avoid problems later on, update your browser now to its most recent version.\n",
    "</div>"
   ]
  },
  {
   "cell_type": "markdown",
   "id": "3",
   "metadata": {},
   "source": [
    "<div class=\"alert alert-info\">\n",
    "<strong>Info:</strong> If you're familiar with a coding environment that supports notebooks,\n",
    "like Visual Studio Code and PyCharm, you may prefer to use it instead of a browser.\n",
    "</div>"
   ]
  },
  {
   "cell_type": "markdown",
   "id": "4",
   "metadata": {},
   "source": [
    "You have two options for working with Jupyter in a web browser.\n",
    "You can use the M269 24J virtual computing environment (VCE) on the OU's Open Computing Lab,\n",
    "and you can install the software locally on your desktop or laptop.\n",
    "\n",
    "Using the VCE has two advantages: you can work on a tablet and\n",
    "you don't have to install or configure any software.\n",
    "The disadvantage is that you need a reasonable internet connection.\n",
    "Using a local installation on your desktop or laptop allows you to work offline,\n",
    "but you must install and configure the Jupyter software.\n",
    "\n",
    "You can use both the VCE and a local installation, but it can get tedious.\n",
    "As you work through the notebooks and modify them,\n",
    "you need to upload and download them to and from the server to keep\n",
    "your local and remote workspaces in sync. To avoid that, I suggest\n",
    "you use the remote server and the local installation for different purposes,\n",
    "e.g. read the materials on the VCE and do the exercises on your machine.\n",
    "\n",
    "A note before we start: the Jupyter and VCE interfaces may have changed\n",
    "since I made the screenshots for this book.\n",
    "\n",
    "If you *don't* intend to use the VCE, skip the next subsection and\n",
    "go directly to [Section&nbsp;1.3.2](../01_Introduction/01_3_software.ipynb#1.3.2-Installing-the-software)."
   ]
  },
  {
   "cell_type": "markdown",
   "id": "5",
   "metadata": {},
   "source": [
    "### 1.3.1 Using the VCE"
   ]
  },
  {
   "cell_type": "markdown",
   "id": "6",
   "metadata": {},
   "source": [
    "1. Go to the 'Resources' tab of the [M269 website](https://learn2.open.ac.uk/course/view.php?id=229015) and\n",
    "   click on the link labelled 'VCE'.\n",
    "\n",
    "You will now see the main page of the Open Computing Lab (OCL),\n",
    "with your name and a Help button in the top right, and\n",
    "a list of the Virtual Computing Environments (VCEs) you can access.\n",
    "\n",
    "2. Click on the Help button and read through the help pages.\n",
    "\n",
    "If you ever have a problem with the M269 VCE, report it in the M269 Technical Forum.\n",
    "However, if you have a problem with the OCL, like not being able to access your VCEs,\n",
    "then see the 'Reporting Issues' section of the help pages.\n",
    "\n",
    "3. Click on the VCE for M269 24J.\n",
    "\n",
    "You will now see the *notebook dashboard*,\n",
    "with a (currently empty) list of the files and folders on the server.\n",
    "If there's a message about migrating to Notebook 7, click \"don't show anymore\".\n",
    "\n",
    "<p id=\"fig-1.3.1\"></p>\n",
    "\n",
    "*[Figure 1.3.1](../33_Figures/Figures_01_3.ipynb#Figure-1.3.1)*\n",
    "\n",
    "![Image 01_3_dashboard_hub.png](01_3_dashboard_hub.png)\n",
    "\n",
    "Next, you need to upload the M269 materials to the VCE.\n",
    "The easiest way is to upload the `book-r1.zip` archive you downloaded from\n",
    "the M269 website and then unpack the archive on the server.\n",
    "\n",
    "4. Click on the 'Upload' button. A file dialogue window showing your\n",
    "   local files and folders appears.\n",
    "1. Navigate to the folder with the zip archive and select it.\n",
    "   You may get a dialogue asking you to confirm that\n",
    "   you want to upload such a large file.\n",
    "\n",
    "The browser window now looks like this.\n",
    "\n",
    "<p id=\"fig-1.3.2\"></p>\n",
    "\n",
    "*[Figure 1.3.2](../33_Figures/Figures_01_3.ipynb#Figure-1.3.2)*\n",
    "\n",
    "![Image 01_3_upload.png](01_3_upload.png)\n",
    "\n",
    "6. Click on the blue 'Upload' button and wait until the upload is complete.\n",
    "1. Click on the 'New' button. A drop-down menu appears.\n",
    "   Select the option 'Terminal'.\n",
    "1. A new browser tab appears, with a terminal. Enter `unzip book-r1.zip`.\n",
    "   Wait until all files have been extracted.\n",
    "1. Close the tab with the terminal.\n",
    "\n",
    "Return to the tab with the notebook dashboard.\n",
    "You should see an additional folder named `book-r1`.\n",
    "\n",
    "If you wish, you can now download the three TMA zip archives from the M269 website,\n",
    "upload them to the VCE and unzip them. You should end up with one folder per TMA.\n",
    "\n",
    "Before continuing, let's take a detour and see how to download files:\n",
    "tick the checkboxes to their left and a download button will appear.\n",
    "\n",
    "<p id=\"fig-1.3.3\"></p>\n",
    "\n",
    "*[Figure 1.3.3](../33_Figures/Figures_01_3.ipynb#Figure-1.3.3)*\n",
    "\n",
    "![Image 01_3_download.png](01_3_download.png)\n",
    "\n",
    "You can download files but not folders.\n",
    "To download one or more folders,\n",
    "create a zip archive with them and download the archive. For example,\n",
    "you can create a new zip archive with the current content of the `book-r1` folder\n",
    "or you can update the `book-r1.zip` archive with the files you changed or added.\n",
    "\n",
    "In both cases you must first click New > Terminal.\n",
    "To create a new archive, enter `zip -r new.zip book-r1`,\n",
    "where `new` is whatever name you want to give to the archive.\n",
    "To update the existing archive, enter instead `zip -ru book-r1.zip book-r1`.\n",
    "After the archive has been created or updated, which can take some time,\n",
    "go to the notebook dashboard, click on the checkbox next to the archive\n",
    "(as in the above screenshot) and download it.\n",
    "\n",
    "You will need to proceed similarly to create and download an archive of\n",
    "your TMA folder before submitting it to the eTMA system."
   ]
  },
  {
   "cell_type": "markdown",
   "id": "7",
   "metadata": {},
   "source": [
    "<div class=\"alert alert-warning\">\n",
    "<strong>Note:</strong> Remember to regularly back up your VCE files.\n",
    "</div>"
   ]
  },
  {
   "cell_type": "markdown",
   "id": "8",
   "metadata": {},
   "source": [
    "I don't recommend working locally on your computer *and* on the VCE because\n",
    "you will need to constantly upload and download\n",
    "the individual files you change, or create and unpack zip archives,\n",
    "to keep your notebooks in sync.\n",
    "\n",
    "If you intend to *only* work in the VCE, skip the next subsection and\n",
    "go directly to Section&nbsp;1.3.4, otherwise log out of the VCE and\n",
    "install the software on your machine."
   ]
  },
  {
   "cell_type": "markdown",
   "id": "9",
   "metadata": {},
   "source": [
    "### 1.3.2 Installing the software"
   ]
  },
  {
   "cell_type": "markdown",
   "id": "10",
   "metadata": {},
   "source": [
    "To install Jupyter on your machine, follow the instructions on\n",
    "https://dsa-ou.github.io/m269-installer.\n",
    "They also tell you how to start using Jupyter.\n",
    "Return to here when the instructions tell you to go back to the book."
   ]
  },
  {
   "cell_type": "markdown",
   "id": "11",
   "metadata": {},
   "source": [
    "### 1.3.3 Switching to notebooks"
   ]
  },
  {
   "cell_type": "markdown",
   "id": "12",
   "metadata": {},
   "source": [
    "At this point you have a browser tab showing the notebook dashboard on the VCE\n",
    "or on your local machine. The dashboard should list the contents of your M269 folder,\n",
    "with the `book-r1` subfolder and possibly a subfolder for each TMA.\n",
    "\n",
    "1. Click on the `book-r1` folder name (not the folder icon).\n",
    "\n",
    "Your screen should look similar to this:\n",
    "\n",
    "<p id=\"fig-1.3.4\"></p>\n",
    "\n",
    "*[Figure 1.3.4](../33_Figures/Figures_01_3.ipynb#Figure-1.3.4)*\n",
    "\n",
    "![Image 01_3_dashboard_book.png](01_3_dashboard_book.png)\n",
    "\n",
    "2. Click on the `notebooks` folder.\n",
    "3. Scroll down past the chapter folders and click on the `M269.ipynb` file.\n",
    "\n",
    "This opens a new web browser tab with the M269 cover notebook.\n",
    "It looks like this, but with a longer table of contents:\n",
    "\n",
    "<p id=\"fig-1.3.5\"></p>\n",
    "\n",
    "*[Figure 1.3.5](../33_Figures/Figures_01_3.ipynb#Figure-1.3.5)*\n",
    "\n",
    "![Image 01_3_cover.png](01_3_cover.png)\n",
    "\n",
    "3. Click on the 'Introduction' link. You get something like this in a new tab:\n",
    "\n",
    "<p id=\"fig-1.3.6\"></p>\n",
    "\n",
    "*[Figure 1.3.6](../33_Figures/Figures_01_3.ipynb#Figure-1.3.6)*\n",
    "\n",
    "![Image 01_3_introduction.png](01_3_introduction.png)\n",
    "\n",
    "4. Click on the link to the fourth section, 'Notebooks'.\n",
    "    You get something like this in a new tab:\n",
    "\n",
    "<p id=\"fig-1.3.7\"></p>\n",
    "\n",
    "*[Figure 1.3.7](../33_Figures/Figures_01_3.ipynb#Figure-1.3.7)*\n",
    "\n",
    "![Image 01_4_notebooks.png](01_4_notebooks.png)\n",
    "\n",
    "As the last three steps show, every time you click on a link to a notebook,\n",
    "it's opened in a new tab. Unfortunately, if the notebook is already open,\n",
    "the browser will open another copy of that notebook.\n",
    "It's therefore easy to end up with lots of tabs, several of them showing the\n",
    "same notebook. Make sure you close notebooks that you don't need anymore.\n",
    "(I'll tell you how to properly close a notebook later.)\n",
    "Avoid clicking on the 'previous section' link at the end of each notebook:\n",
    "you probably have it already open.\n",
    "You can easily see which sections you opened from the tab titles:\n",
    "they start with the chapter and section number."
   ]
  },
  {
   "cell_type": "markdown",
   "id": "13",
   "metadata": {},
   "source": [
    "<div class=\"alert alert-warning\">\n",
    "<strong>Note:</strong> With multiple tabs open, you may prefer to list them vertically, so that you can read the full tab name.\n",
    "Most browsers have extensions that list tabs vertically instead of horizontally.\n",
    "</div>"
   ]
  },
  {
   "cell_type": "markdown",
   "id": "14",
   "metadata": {},
   "source": [
    "Now you can stop reading the M269 book in PDF or HTML and switch to notebooks:\n",
    "start reading the Section&nbsp;1.4 notebook you just opened."
   ]
  },
  {
   "cell_type": "markdown",
   "id": "15",
   "metadata": {},
   "source": [
    "⟵ [Previous section](01_2_preparation.ipynb) | [Up](01-introduction.ipynb) | [Next section](01_4_notebooks.ipynb) ⟶"
   ]
  }
 ],
 "metadata": {
  "kernelspec": {
   "display_name": "Python 3",
   "language": "python",
   "name": "python3"
  },
  "language_info": {
   "codemirror_mode": {
    "name": "ipython",
    "version": 3
   },
   "file_extension": ".py",
   "mimetype": "text/x-python",
   "name": "python",
   "nbconvert_exporter": "python",
   "pygments_lexer": "ipython3",
   "version": "3.11.9"
  }
 },
 "nbformat": 4,
 "nbformat_minor": 5
}
