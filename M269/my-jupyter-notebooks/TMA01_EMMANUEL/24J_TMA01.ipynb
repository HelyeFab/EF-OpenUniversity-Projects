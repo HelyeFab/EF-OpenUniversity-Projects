{
 "cells": [
  {
   "cell_type": "markdown",
   "id": "e8f00287",
   "metadata": {
    "cellcol": "answercell",
    "deletable": false
   },
   "source": [
    "### Edit this cell to enter your name and PI. Then run the JavaScript cell below to identify answer and feedback cells.\n",
    "\n",
    "**Name:** \\\n",
    "**PI:** "
   ]
  },
  {
   "cell_type": "code",
   "execution_count": 1,
   "id": "e7b3bcfb",
   "metadata": {
    "deletable": false,
    "editable": false
   },
   "outputs": [
    {
     "data": {
      "text/html": [
       "<script src=\"colours.js\"></script>\n"
      ],
      "text/plain": [
       "<IPython.core.display.HTML object>"
      ]
     },
     "metadata": {},
     "output_type": "display_data"
    }
   ],
   "source": [
    "%%html\n",
    "<script src=\"colours.js\"></script>"
   ]
  },
  {
   "cell_type": "markdown",
   "id": "19486fdc",
   "metadata": {
    "deletable": false,
    "editable": false
   },
   "source": [
    "**Release**: 2024-10-09"
   ]
  },
  {
   "cell_type": "markdown",
   "id": "73034a4a",
   "metadata": {
    "deletable": false,
    "editable": false
   },
   "source": [
    "# TMA 01\n",
    "M269 requires all assignments to be submitted electronically, by following the\n",
    "link(s) from your StudentHome page to the online TMA/EMA service.\n",
    "\n",
    "If you foresee any difficulty with submitting your assignment on time then you\n",
    "should contact your tutor well in advance of the cut-off date.\n",
    "\n",
    "For further information about policy, procedure and general submission of\n",
    "assignments please refer to the \n",
    "[TMA and iCMA Policy](https://help.open.ac.uk/documents/policies/assessment-handbook),\n",
    "which can also be accessed via your StudentHome page.\n",
    "\n",
    "The learning outcomes assessed by each questions are outlined at the head of\n",
    "the question.\n",
    "\n",
    "In answering this TMA, remember that you can only use the Python data types/structures, \n",
    "constructs, methods, functions or operations listed in the chapter summaries, unless \n",
    "specified otherwise within this TMA. While other constructs may have been exceptionally allowed in \n",
    " other TMAs, they are **not** allowed in this TMA01. Use of disallowed code may result in a reduction of marks for that section, possibly reducing the section down to 0 marks.\n",
    " \n",
    "The local installation of Jupyter Notebooks, as well as the online version provided by The Open University includes tools to check your code only contains allowed constructs and follows the required formatting. You should ensure you make use of these tools.\n",
    "\n",
    "Your TMA should be opened and edited in Jupyter notebooks. Ensure you **put your\n",
    "name and PI at the top** of this document. Remember to **run all cells when you start\n",
    "a new session** to work on this TMA. This will highlight the answer cells in yellow and\n",
    "will check your code for Python elements not taught in the book.\n",
    "(See Chapter 5 for details.)\n",
    "\n",
    "If you use an alternative piece of software to\n",
    "edit and run your TMA your tutor and the module team may not be able to support you.\n",
    "\n",
    "All of TMA 01 is in this document. There are __Five__ questions worth 100 marks.<br><br>\n",
    "\n",
    "\n",
    "<div style=\"background:#ff4444\">The final section of this TMA will ask you to provide evidence of testing your code within the module quizzes and reflect upon your use of the specimen TMA, as well as provide evidence of using the forums. We STRONGLY advise reading this question before starting so that you are prepared.</div>\n",
    "\n",
    "Run the code below to ensure all support tools and files are executed.\n"
   ]
  },
  {
   "cell_type": "code",
   "execution_count": null,
   "id": "e4545881",
   "metadata": {
    "deletable": false,
    "editable": false
   },
   "outputs": [],
   "source": [
    "%load_ext algoesup.magics\n",
    "%allowed on\n",
    "%ruff on\n",
    "%run -i m269_test"
   ]
  },
  {
   "cell_type": "markdown",
   "id": "cd102f39",
   "metadata": {
    "cellname": "PART1",
    "deletable": false,
    "editable": false
   },
   "source": [
    "## PART 1 (44 marks)"
   ]
  },
  {
   "cell_type": "markdown",
   "id": "5f051203",
   "metadata": {
    "TYPE": "TEXT",
    "cellname": "QUESTION 1",
    "deletable": false,
    "editable": false
   },
   "source": [
    "### Question 1 (32 marks)\n",
    "\n",
    "*You should be able to answer this question after you have studied up to Chapter 4. For Q1(b), it may be helpful to consult 6.4.1 as well.*\n",
    "\n",
    "This question tests the following learning outcomes: \n",
    "\n",
    "- *Understand the common general-purpose data structures, algorithmic techniques and complexity classes.*\n",
    "- *Develop and apply algorithms and data structures to solve computational problems.*\n",
    "- *Analyse the complexity of algorithms to support software design choices.*\n",
    "- *Write readable, tested, documented and efficient Python code.*"
   ]
  },
  {
   "cell_type": "markdown",
   "id": "43086139",
   "metadata": {
    "MARKS": 6,
    "QUESTION": "Q1(a)",
    "TYPE": "TEXT",
    "deletable": false,
    "editable": false
   },
   "source": [
    "#### Q1(a) (6 marks)\n",
    "The function definition below is taken from Chapter 4 and describes the general problem of finding the first occurrence of a given character in a given string.\n",
    "\n",
    "**Function:** first index \\\n",
    "**Inputs:** *text*, a string; *character*, a string \\\n",
    "**Preconditions:** |*character*| = 1 \\\n",
    "**Output:** *index*, an integer \\\n",
    "**Postconditions**: if *character* occurs in *text*, *index* is the smallest integer such that *text[index]* = *character*, otherwise *index* = |*text*|\n",
    "\n",
    "Write a definition of a function that finds the second occurrence of **any** digit in a given string. If a second digit is not found, the function should indicate this by returning the length of the string. The digits can be adjacent or separated by non-numerical characters. \n",
    "\n",
    "**Examples:** \\\n",
    "In the string 'I have 1 dog and 2 cats', the first occurrence of any digit is '1', and the second occurrence is '2', so the function would return 17. (NB: The number returned results from counting the first position in the string, the letter 'I', as position 0, the first space as position 1, etc.).\\\n",
    "In the string 'I have 1 dog', there is no second occurrence of any digit, so the function would return 12.\n",
    "In the string 'I have 10 dogs', the second occurrence of any digit is '0', so the function would return 8."
   ]
  },
  {
   "cell_type": "markdown",
   "id": "e13d6858",
   "metadata": {
    "MARKS": 6,
    "QUESTION": "Q1(a)",
    "TYPE": "ANSWER",
    "cellcol": "answercell",
    "deletable": false
   },
   "source": [
    "**Function:** \\\n",
    "**Inputs:** \\\n",
    "**Preconditions:** \\\n",
    "**Output:** \\\n",
    "**Postconditions**: "
   ]
  },
  {
   "cell_type": "markdown",
   "id": "e17bbcf6",
   "metadata": {
    "MARKS": 8,
    "QUESTION": "Q1(b)",
    "TYPE": "TEXT",
    "deletable": false,
    "editable": false
   },
   "source": [
    "#### Q1(b) (8 marks)\n",
    "\n",
    "Outline an algorithm in English which will implement the function you defined in question 1(a)\n",
    "\n",
    "An outline in English should not be program code or pseudo-code; see Section 6.4.1 for further guidance on outlining algorithms in English. Not using an English outline will lead to marks being deducted."
   ]
  },
  {
   "cell_type": "markdown",
   "id": "4661f25c",
   "metadata": {
    "MARKS": 8,
    "QUESTION": "Q1(b)",
    "TYPE": "ANSWER",
    "cellcol": "answercell",
    "deletable": false
   },
   "source": [
    "*Write your answer here*"
   ]
  },
  {
   "cell_type": "markdown",
   "id": "d5bb7916",
   "metadata": {
    "MARKS": 14,
    "QUESTION": "Q1(c)",
    "TYPE": "TEXT",
    "deletable": false,
    "editable": false
   },
   "source": [
    "#### Q1(c) (14 marks)\n",
    "\n",
    "Implement the function described in Q1(a). Your implementation must match your algorithm from Q1(b); failure to do so will cause a reduction in marks.\n",
    "\n",
    "You can use the tests below to help check if your code is working. \\\n",
    "NOTE that failing the tests is a clear indication you code is faulty, but passing the tests is NOT a guarantee it is correct. Your tutor may run additional tests."
   ]
  },
  {
   "cell_type": "code",
   "execution_count": null,
   "id": "bf05eab8",
   "metadata": {
    "MARKS": 14,
    "QUESTION": "Q1(c)",
    "TYPE": "ANSWER",
    "cellcol": "answercell",
    "deletable": false
   },
   "outputs": [],
   "source": [
    "# Write your answer here\n",
    "\n",
    "# Use these tests\n",
    "test_table = [\n",
    "    [\"No digits\", \"What do you call a fish one eye?\", 32],\n",
    "    [\"One digit\", \"F1sh\", 4],\n",
    "    [\"Two digits\", \"What about two eyes? F11sh\", 23],\n",
    "    [\"Many digits\", \"What about five eyes? F11111sh!\", 24]\n",
    "]\n",
    "\n",
    "test(second_index, test_table)"
   ]
  },
  {
   "cell_type": "markdown",
   "id": "3a4ab558",
   "metadata": {
    "MARKS": 4,
    "QUESTION": "Q1(d)",
    "TYPE": "TEXT",
    "deletable": false,
    "editable": false
   },
   "source": [
    "#### Q1(d) (4 marks)\n",
    "\n",
    "Using Big-Theta notation, identify the worst-case complexity for the function you defined in Q1(a). Justify your answer."
   ]
  },
  {
   "cell_type": "markdown",
   "id": "95b51911",
   "metadata": {
    "MARKS": 4,
    "QUESTION": "Q1(d)",
    "TYPE": "ANSWER",
    "cellcol": "answercell",
    "deletable": false
   },
   "source": [
    "*Write your answer here*"
   ]
  },
  {
   "cell_type": "markdown",
   "id": "d5da3951",
   "metadata": {
    "TYPE": "TEXT",
    "cellname": "QUESTION 2",
    "deletable": false,
    "editable": false
   },
   "source": [
    "### Question 2 (12 marks)\n",
    "\n",
    "You should be able to answer this question after you have studied up to Chapter 4.\n",
    "\n",
    "This question tests the following learning outcomes:\n",
    "\n",
    "- Understand the common general-purpose data structures, algorithmic techniques and complexity classes.\n",
    "- Develop and apply algorithms and data structures to solve computational problems.\n",
    "- Write readable, tested, documented and efficient Python code.\n",
    "\n",
    "Exercise 4.8.4 in the course book asked you to implement a function that decides whether a string is a palindrome without modifying the input string. For this question, do the exercise, but modify it to check whether a palindrome number is present as a string with a length greater than 1. Your code should return a Boolean False if any leading zeros or non-numeric characters are in the string.\n",
    "\n",
    "For example, '1221' and '10201' are palindrome numbers but '010' and '011' are not; both would return Boolean False because both have leading zeroes - regardless of whether the input is a palindrome before or after the leading zero is taken into account. A Boolean False would be returned for 'a1221', 'a1221a', and '12.21', because 'a' and '.' are non-numeric characters.\n",
    "\n",
    "Write code below that adheres to M269 coding style (defined in course book section 5.3). The function should:\n",
    "- be named is_palindrome\n",
    "- accept a single string parameter with a length greater than 1\n",
    "- return a Boolean: True if the string is a palindrome based on the defined criteria; False otherwise. \n",
    "\n",
    "You can use the tests below to help check if your code is working. NOTE that failing the tests is a clear indication you code is faulty, but passing the tests is NOT a guarantee it is correct. Your tutor may run additional tests."
   ]
  },
  {
   "cell_type": "code",
   "execution_count": null,
   "id": "424ad986",
   "metadata": {
    "MARKS": 12,
    "QUESTION": "Q2",
    "TYPE": "ANSWER",
    "cellcol": "answercell",
    "deletable": false
   },
   "outputs": [],
   "source": [
    "# Write your answer here\n",
    "\n",
    "\n",
    "# Use these tests\n",
    "test_table = [\n",
    "    [\"Is palindrome\", \"1001\", True],\n",
    "    [\"Is not palindrome\", \"1010\", False],\n",
    "    [\"Palindrome with middle digit\", \"10101\", True]\n",
    "]\n",
    "\n",
    "test(is_palindrome, test_table)"
   ]
  },
  {
   "cell_type": "markdown",
   "id": "ecd8334e",
   "metadata": {
    "cellname": "PART2",
    "deletable": false,
    "editable": false
   },
   "source": [
    "## PART 2 (56 marks)"
   ]
  },
  {
   "cell_type": "markdown",
   "id": "b8ce59ae",
   "metadata": {
    "TYPE": "TEXT",
    "cellname": "QUESTION 3",
    "deletable": false,
    "editable": false
   },
   "source": [
    "### Question 3 (24 marks)\n",
    "You should be able to answer this question after you have studied up to Chapter 8.\n",
    "\n",
    "This question tests the following learning outcomes:\n",
    "\n",
    "- Understand the common general-purpose data structures, algorithmic techniques and complexity classes.\n",
    "- Develop and apply algorithms and data structures to solve computational problems.\n",
    "- Explain how an algorithm or data structure works, in order to communicate with relevant stakeholders.\n",
    "- Write readable, tested, documented and efficient Python code.\n",
    "\n",
    "Jan runs a local doctors surgery. At the moment, appointments are kept in a book with lined paper, each line representing a five-minute appointment with the doctor. Whenever a patient calls for an appointment, Jan looks down the list until an empty line is found, and writes the patient's name in. Currently there are a number of problems with the system; if a Doctor overruns Jan just tries to remember where she is on the list and lets the next one in when the Doctor is ready. If a Doctor is done early and Jan notices the next person is there, she will let them in early. Sometimes she just waits until the next five minute mark and then calls the next name. Some people need double length sessions so she will put them down for two slots. She tends to scribble notes as she goes and copies these in the patient files at the end of the day if necessary. Sometimes emergency appointments come in; Jan will send them straight through if possible and note these into the book, but this tends to throw the timings off so she keeps the adjusted time in her head. \n",
    "\n",
    "By the end of the day Jan finds she has made lots of pencilled adjustments. An small example is shown below:\n",
    "![image](surgery1.jpg)\n"
   ]
  },
  {
   "cell_type": "markdown",
   "id": "42739ddb",
   "metadata": {
    "MARKS": 11,
    "QUESTION": "Q3(a)",
    "TYPE": "TEXT",
    "deletable": false,
    "editable": false
   },
   "source": [
    "#### Q3(a) (11 marks)\n",
    "Jan is thinking about computerising the system and as the small surgery is trying to save money asks her cousin, Stevie, to work on the system. Stevie is currently studying M269 at the Open University so is keen to do a good job. As the appointments are 5 minutes long, and the surgery opens 9 until 5, Stevie thinks that a static array with 96 elements, each a string for the patient name, is a good underlying data structure. \n",
    "\n",
    "A static array would be a way to mimic the current book. But the pencilled amendments in the current book show its limitations, no matter if on paper or in software as a static array using strings. \n",
    "\n",
    "What are three alternative options to using a static array and/or strings to store the necessary information in a more flexible way?\n",
    "\n",
    "**Specify three potential problems, suggest a solution for each, and describe the advantage of each proposed solution.** Solutions to different issues may be addressed separately, so you do not need an all-in-one solution. For example, one proposed solution might have an advantage over some limitations but not others."
   ]
  },
  {
   "cell_type": "markdown",
   "id": "595976a2",
   "metadata": {
    "MARKS": 11,
    "QUESTION": "Q3(a)",
    "TYPE": "ANSWER",
    "cellcol": "answercell",
    "deletable": false
   },
   "source": [
    "__Problem 1__: \\\n",
    "__Alternative Structure__: \\\n",
    "__Advantage__: \n",
    "\n",
    "__Problem 2__: \\\n",
    "__Alternative Structure__: \\\n",
    "__Advantage__: \n",
    "\n",
    "__Problem 3__: \\\n",
    "__Alternative Structure__: \\\n",
    "__Advantage__:\n",
    "\n",
    "(Hint: Consider the number of slots, the emergency appointments, and the way in which pencil-annotated rows contain more information than just the patient name.) "
   ]
  },
  {
   "cell_type": "markdown",
   "id": "aea964a3",
   "metadata": {
    "MARKS": 10,
    "QUESTION": "Q3(b)",
    "TYPE": "TEXT",
    "deletable": false,
    "editable": false
   },
   "source": [
    "#### Q3(b) (10 marks)\n",
    "\n",
    "Jan is concerned that some of the patients may be visiting the surgery too frequently and wants to investigate why this is. Stevie has designed an ADT to store patient details and assigned a unique patient number to each patient. The patient details are stored in a hash table with the patient number as the key. The patient numbers of every patient that has visited the surgery this week has been stored in a set, _this_week_, and all those that visited last week in the cunningly named set, _last_week_. \n",
    "\n",
    "Outline in English how the hash table, and the operations described in _8.4.2_ for using sets, could be used to output a list of names of patients that have visited the surgery both weeks. "
   ]
  },
  {
   "cell_type": "markdown",
   "id": "b31c1cae",
   "metadata": {
    "MARKS": 10,
    "QUESTION": "Q3(b)",
    "TYPE": "ANSWER",
    "cellcol": "answercell",
    "deletable": false
   },
   "source": [
    "*Write your answer here*"
   ]
  },
  {
   "cell_type": "markdown",
   "id": "0c7621c8",
   "metadata": {
    "MARKS": 3,
    "QUESTION": "Q3(c)",
    "TYPE": "TEXT",
    "deletable": false,
    "editable": false
   },
   "source": [
    "#### Q3(c) (3 marks)\n",
    "Stevie has designed the following function to output a patient's details. Take on the role of Stevie's M269 tutor and suggest some feedback you may offer on Stevie's coding style. You should make at least three points.\n",
    "\n",
    "```py\n",
    "def patientDetails(patient):\n",
    "  print('PATIENT DETAILS:'+patient.getName())\n",
    "  print('EXISTING CONDITIONS:')\n",
    "  c = patient.getConditions()\n",
    "  for i in len(c):\n",
    "   print('-'+c[i])\n",
    "  return l\n",
    "```"
   ]
  },
  {
   "cell_type": "markdown",
   "id": "46bb6daf",
   "metadata": {
    "MARKS": 3,
    "QUESTION": "Q3(c)",
    "TYPE": "ANSWER",
    "cellcol": "answercell",
    "deletable": false
   },
   "source": [
    "_write your answer here_"
   ]
  },
  {
   "cell_type": "markdown",
   "id": "29b8e645",
   "metadata": {
    "cellname": "QUESTION 4",
    "deletable": false,
    "editable": false
   },
   "source": [
    "### Question 4 (22 Marks)\n",
    "\n",
    "You should be able to answer this question after you have studied up to Chapter 8.\n",
    "\n",
    "This question tests the following learning outcomes:\n",
    "\n",
    "- Understand the common general-purpose data structures, algorithmic techniques and complexity classes.\n",
    "- Develop and apply algorithms and data structures to solve computational problems.\n",
    "- Explain how an algorithm or data structure works, in order to communicate with relevant stakeholders.\n",
    "- Write readable, tested, documented and efficient Python code.\n",
    "- Analyse the complexity of algorithms to support software design choices."
   ]
  },
  {
   "cell_type": "markdown",
   "id": "d9cfcee8",
   "metadata": {
    "MARKS": 12,
    "QUESTION": "Q4(a)",
    "TYPE": "TEXT",
    "deletable": false,
    "editable": false
   },
   "source": [
    "#### Q4(a) (12 marks)\n",
    "\n",
    "A web browser uses a stack to manage its history. Every time you visit a web page the address you visited is added to the stack (note this address does not have to be unique - you might visit the same site twice and end up with the same address in subsequent entries in the stack). Every time you hit the back button, the last page visited is retrieved from the stack and returned. If there is nothing for the back button to return (i.e. you have gone all the way back through the history) then it should return an empty string.\n",
    "\n",
    "Implement a linked list stack _WebBrowserHistory_ which includes methods _add_history_ to add an address to the stack and _back_ which returns and removes the last visited page from the stack.\n",
    "\n",
    "__NOTE__ We have deliberately not included any test data here (see Q4(b)). Do not let this stop you from testing your own code!"
   ]
  },
  {
   "cell_type": "code",
   "execution_count": null,
   "id": "59d7d992",
   "metadata": {
    "MARKS": 12,
    "QUESTION": "Q4(a)",
    "TYPE": "ANSWER",
    "cellcol": "answercell",
    "deletable": false
   },
   "outputs": [],
   "source": [
    "# Write your answer here\n"
   ]
  },
  {
   "cell_type": "markdown",
   "id": "67bfa771",
   "metadata": {
    "MARKS": 6,
    "QUESTION": "Q4(b)",
    "TYPE": "TEXT",
    "deletable": false,
    "editable": false
   },
   "source": [
    "#### Q4(b) (6 marks)\n",
    "Describe at least three tests for your code. Ensure you explain why each test is being included. You do not need to implement your tests, just describe them."
   ]
  },
  {
   "cell_type": "markdown",
   "id": "22cb8254",
   "metadata": {
    "MARKS": 6,
    "QUESTION": "Q4(b)",
    "TYPE": "ANSWER",
    "cellcol": "answercell",
    "deletable": false
   },
   "source": [
    "*Write your answer here*"
   ]
  },
  {
   "cell_type": "markdown",
   "id": "0cf35c41",
   "metadata": {
    "MARKS": 4,
    "QUESTION": "Q4(c)",
    "TYPE": "TEXT",
    "deletable": false,
    "editable": false
   },
   "source": [
    "#### Q4(c) (4 marks)\n",
    "The following algorithm shows the contents of _history_ to the user.\n",
    "1. Create a WebBrowserHistory stack, _forwards_\n",
    "2. For _counter_ up to the size of the _history_ stack\\\n",
    "    2.1. Store the results of _peek_ on the history stack as _url_ \\\n",
    "    2.2. Call _pop_ on the history stack \\\n",
    "    2.3. Output _url_ \\\n",
    "    2.4. Call _add_history_ on the _forwards_ stack, with _url_ as the parameter\n",
    "3. For _counter_ up to the size of the _forwards_ stack\\\n",
    "    3.1. Store the results of _peek_ on the _forwards_ stack as _url_ \\\n",
    "    3.2. Call _pop_ on the _forwards_ stack \\\n",
    "    3.3. Call _add_history_ on the _history_ stack, with _url_ as the parameter\n",
    "    \n",
    "What is the complexity of this algorithm? Explain your reasoning."
   ]
  },
  {
   "cell_type": "markdown",
   "id": "b17de711",
   "metadata": {
    "MARKS": 4,
    "QUESTION": "Q4(c)",
    "TYPE": "ANSWER",
    "cellcol": "answercell",
    "deletable": false
   },
   "source": [
    "*Write your answer here*"
   ]
  },
  {
   "cell_type": "markdown",
   "id": "3c15ce0a",
   "metadata": {
    "cellname": "PART3",
    "deletable": false,
    "editable": false
   },
   "source": [
    "## PART 3"
   ]
  },
  {
   "cell_type": "markdown",
   "id": "ceb556a6",
   "metadata": {
    "cellname": "QUESTION 5",
    "deletable": false,
    "editable": false
   },
   "source": [
    "### Question 5 (10 Marks)\n",
    "\n",
    "You should be able to answer this question after you have studied up to Chapter 8.\n",
    "\n",
    "This question tests the following learning outcomes:\n",
    "\n",
    "- Understand the common general-purpose data structures, algorithmic techniques and complexity classes.\n",
    "- Develop and apply algorithms and data structures to solve computational problems.\n",
    "- Explain how an algorithm or data structure works, in order to communicate with relevant stakeholders.\n",
    "- Write readable, tested, documented and efficient Python code.\n",
    "- Analyse the complexity of algorithms to support software design choices.\n",
    "\n",
    "To complete this question you will need to provide evidence of having tested your code from Questions 1 and 2 using the quizzes on the module website. You will also have to have completed at least one question from the specimen TMA, shared one of your answers on the forums, supported a fellow student on the forums and reflected upon the process. You will be marked for your level of engagement with these activities. You are expected to engage with these activities in advance so to be awarded full marks, you must have posted 48 hours or longer before your TMA deadline. Failure to do so will lead to reduced marks."
   ]
  },
  {
   "cell_type": "markdown",
   "id": "42d9fb7c",
   "metadata": {
    "QUESTION": "Q5(a)",
    "TYPE": "TEXT",
    "deletable": false,
    "editable": false
   },
   "source": [
    "#### Q5(a) (4 marks)\n",
    "In the following questions you will need to include screenshots. To include a screenshot:\n",
    "1. Use the screenshot functionality of your computer to save the screenshot as an image file.\n",
    "2. Copy the image file to the same location as your TMA document and make a note of the filename.\n",
    "3. In the relevant cell below, enter the following: `![image](filename.png)` where filename.png refers to the filename and extension of your screenshot.\n",
    "4. Make sure that it displays correctly and to include the image when you submit your TMA. Missing images will receive 0 marks!"
   ]
  },
  {
   "cell_type": "markdown",
   "id": "c8968e3b",
   "metadata": {
    "MARKS": 2,
    "QUESTION": "Q5(a)(i)",
    "TYPE": "TEXT",
    "deletable": false,
    "editable": false
   },
   "source": [
    "#### Q5(a)(i) (2 marks)\n",
    "Insert a screenshot of you testing your code from Q1(c) in the quiz in the [assessment section of the M269 website](https://learn2.open.ac.uk/mod/quiz/view.php?id=2419473). Your screenshot should show your code and the results of the tests. You will not lose marks for your tests failing as long as you have fully engaged with the activity."
   ]
  },
  {
   "cell_type": "markdown",
   "id": "5bc11e47",
   "metadata": {
    "MARKS": 2,
    "QUESTION": "Q5(a)(i)",
    "TYPE": "ANSWER",
    "cellcol": "answercell",
    "deletable": false
   },
   "source": [
    "*Write your answer here*"
   ]
  },
  {
   "cell_type": "markdown",
   "id": "9c49a4c1",
   "metadata": {
    "MARKS": 2,
    "QUESTION": "Q5(a)(ii)",
    "TYPE": "TEXT",
    "deletable": false,
    "editable": false
   },
   "source": [
    "#### Q5(a)(ii) (2 marks)\n",
    "Insert a screenshot of you testing your code from Q2 in the quiz in the [assessment section of the M269 website](https://learn2.open.ac.uk/mod/quiz/view.php?id=2419473). Your screenshot should show your code and the results of the tests. You will not lose marks for your tests failing as long as you have fully engaged with the activity."
   ]
  },
  {
   "cell_type": "markdown",
   "id": "a2c28f4d",
   "metadata": {
    "MARKS": 2,
    "QUESTION": "Q5(a)(ii)",
    "TYPE": "ANSWER",
    "cellcol": "answercell",
    "deletable": false
   },
   "source": [
    "*Write your answer here*"
   ]
  },
  {
   "cell_type": "markdown",
   "id": "9ac7588b",
   "metadata": {
    "QUESTION": "Q5(b)",
    "TYPE": "TEXT",
    "deletable": false,
    "editable": false
   },
   "source": [
    "#### Q5(b) (6 marks)\n",
    "This question expects you to have engaged with the [Specimen TMA](https://learn2.open.ac.uk/mod/resource/view.php?id=2383727) and the [forums](https://learn2.open.ac.uk/course/view.php?id=229015&area=forums). You will be awarded marks on your level of engagement with the activity."
   ]
  },
  {
   "cell_type": "markdown",
   "id": "ea05aac0",
   "metadata": {
    "MARKS": 2,
    "QUESTION": "Q5(b)(i)",
    "TYPE": "TEXT",
    "deletable": false,
    "editable": false
   },
   "source": [
    "#### Q5(b)(i) (2 marks)\n",
    "You were provided access to a specimen TMA. It was suggested that you paste one of your solutions into your cluster forum. \n",
    "\n",
    "Provide a screenshot of your solution posted in your [cluster forum](https://learn2.open.ac.uk/mod/forumng/view.php?id=2383746). The screenshot should include your name/PI, your code, and the date/time that you posted."
   ]
  },
  {
   "cell_type": "markdown",
   "id": "b169cb10",
   "metadata": {
    "MARKS": 2,
    "QUESTION": "Q5(b)(i)",
    "TYPE": "ANSWER",
    "cellcol": "answercell",
    "deletable": false
   },
   "source": [
    "*Write your answer here*"
   ]
  },
  {
   "cell_type": "markdown",
   "id": "3774ecac",
   "metadata": {
    "MARKS": 2,
    "QUESTION": "Q5(b)(ii)",
    "TYPE": "TEXT",
    "deletable": false,
    "editable": false
   },
   "source": [
    "#### Q5(b)(ii) (2 marks)\n",
    "After posting your own code in to the cluster forum, it was recommended that you support your fellow students reflecting and commenting upon their postings.\n",
    "\n",
    "Provide a screenshot of at least one of your comments posted in the cluster forum](https://learn2.open.ac.uk/mod/forumng/view.php?id=2383746). The screenshot should include your name/PI, your comment(s), and the date/time that you posted."
   ]
  },
  {
   "cell_type": "markdown",
   "id": "32dfc1cb",
   "metadata": {
    "MARKS": 2,
    "QUESTION": "Q5(b)(ii)",
    "TYPE": "ANSWER",
    "cellcol": "answercell",
    "deletable": false
   },
   "source": [
    "*Write your answer here*"
   ]
  },
  {
   "cell_type": "markdown",
   "id": "e4ad6c2c",
   "metadata": {
    "MARKS": 2,
    "QUESTION": "Q5(b)(iii)",
    "TYPE": "TEXT",
    "deletable": false,
    "editable": false
   },
   "source": [
    "#### Q5(b)(iii) (2 marks)\n",
    "Write a few sentences reflecting upon your use of the specimen TMA and what impact it had on your completion of TMA01. Remember, we are marking you on your engagement so \"none\" is not a suitable answer - you need to explain why!"
   ]
  },
  {
   "cell_type": "markdown",
   "id": "c48dfaec",
   "metadata": {
    "MARKS": 2,
    "QUESTION": "Q5(b)(iii)",
    "TYPE": "ANSWER",
    "cellcol": "answercell",
    "deletable": false
   },
   "source": [
    "*Write your answer here*"
   ]
  },
  {
   "cell_type": "markdown",
   "id": "546179d5",
   "metadata": {
    "deletable": false,
    "editable": false
   },
   "source": [
    "Submit this TMA by zipping together the notebook along with all of the helper and data files you have used, and submitting your .zip file using the online TMA/EMA service."
   ]
  }
 ],
 "metadata": {
  "kernelspec": {
   "display_name": "Python 3 (ipykernel)",
   "language": "python",
   "name": "python3"
  },
  "language_info": {
   "codemirror_mode": {
    "name": "ipython",
    "version": 3
   },
   "file_extension": ".py",
   "mimetype": "text/x-python",
   "name": "python",
   "nbconvert_exporter": "python",
   "pygments_lexer": "ipython3",
   "version": "3.10.7"
  }
 },
 "nbformat": 4,
 "nbformat_minor": 5
}
